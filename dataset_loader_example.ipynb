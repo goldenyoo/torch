{
 "cells": [
  {
   "cell_type": "code",
   "execution_count": 1,
   "metadata": {},
   "outputs": [],
   "source": [
    "import torch\n",
    "import torch.nn as nn\n",
    "import torch.nn.functional as F\n",
    "\n",
    "from torch.utils.data import TensorDataset # 텐서데이터셋\n",
    "from torch.utils.data import DataLoader # 데이터로더"
   ]
  },
  {
   "cell_type": "markdown",
   "metadata": {},
   "source": [
    "# 일반적인 dataset 사용법"
   ]
  },
  {
   "cell_type": "code",
   "execution_count": 2,
   "metadata": {},
   "outputs": [],
   "source": [
    "x_train  =  torch.FloatTensor([[73,  80,  75], \n",
    "                               [93,  88,  93], \n",
    "                               [89,  91,  90], \n",
    "                               [96,  98,  100],   \n",
    "                               [73,  66,  70]])  \n",
    "y_train  =  torch.FloatTensor([[152],  [185],  [180],  [196],  [142]])\n",
    "\n",
    "dataset = TensorDataset(x_train, y_train)"
   ]
  },
  {
   "cell_type": "code",
   "execution_count": 3,
   "metadata": {},
   "outputs": [],
   "source": [
    "dataloader = DataLoader(dataset, batch_size=2, shuffle=True)"
   ]
  },
  {
   "cell_type": "code",
   "execution_count": 4,
   "metadata": {},
   "outputs": [],
   "source": [
    "model = nn.Linear(3,1)\n",
    "optimizer = torch.optim.SGD(model.parameters(), lr=1e-5) "
   ]
  },
  {
   "cell_type": "code",
   "execution_count": 8,
   "metadata": {},
   "outputs": [
    {
     "name": "stdout",
     "output_type": "stream",
     "text": [
      "Epoch    0/20 Batch 1/3 Cost: 6286.566895\n",
      "Epoch    0/20 Batch 2/3 Cost: 976.257446\n",
      "Epoch    0/20 Batch 3/3 Cost: 264.472778\n",
      "Epoch    1/20 Batch 1/3 Cost: 235.855194\n",
      "Epoch    1/20 Batch 2/3 Cost: 22.076534\n",
      "Epoch    1/20 Batch 3/3 Cost: 31.828873\n",
      "Epoch    2/20 Batch 1/3 Cost: 8.547379\n",
      "Epoch    2/20 Batch 2/3 Cost: 4.440845\n",
      "Epoch    2/20 Batch 3/3 Cost: 0.228860\n",
      "Epoch    3/20 Batch 1/3 Cost: 3.284174\n",
      "Epoch    3/20 Batch 2/3 Cost: 1.168770\n",
      "Epoch    3/20 Batch 3/3 Cost: 8.008133\n",
      "Epoch    4/20 Batch 1/3 Cost: 2.021667\n",
      "Epoch    4/20 Batch 2/3 Cost: 3.498018\n",
      "Epoch    4/20 Batch 3/3 Cost: 2.227033\n",
      "Epoch    5/20 Batch 1/3 Cost: 3.536513\n",
      "Epoch    5/20 Batch 2/3 Cost: 1.496823\n",
      "Epoch    5/20 Batch 3/3 Cost: 5.526330\n",
      "Epoch    6/20 Batch 1/3 Cost: 2.407478\n",
      "Epoch    6/20 Batch 2/3 Cost: 5.739405\n",
      "Epoch    6/20 Batch 3/3 Cost: 1.456740\n",
      "Epoch    7/20 Batch 1/3 Cost: 0.322776\n",
      "Epoch    7/20 Batch 2/3 Cost: 7.470464\n",
      "Epoch    7/20 Batch 3/3 Cost: 2.963813\n",
      "Epoch    8/20 Batch 1/3 Cost: 0.953815\n",
      "Epoch    8/20 Batch 2/3 Cost: 7.251904\n",
      "Epoch    8/20 Batch 3/3 Cost: 2.267980\n",
      "Epoch    9/20 Batch 1/3 Cost: 3.918567\n",
      "Epoch    9/20 Batch 2/3 Cost: 2.172920\n",
      "Epoch    9/20 Batch 3/3 Cost: 1.484980\n",
      "Epoch   10/20 Batch 1/3 Cost: 0.607005\n",
      "Epoch   10/20 Batch 2/3 Cost: 3.397445\n",
      "Epoch   10/20 Batch 3/3 Cost: 6.208033\n",
      "Epoch   11/20 Batch 1/3 Cost: 3.213976\n",
      "Epoch   11/20 Batch 2/3 Cost: 3.755086\n",
      "Epoch   11/20 Batch 3/3 Cost: 3.098010\n",
      "Epoch   12/20 Batch 1/3 Cost: 3.266344\n",
      "Epoch   12/20 Batch 2/3 Cost: 3.531095\n",
      "Epoch   12/20 Batch 3/3 Cost: 3.780086\n",
      "Epoch   13/20 Batch 1/3 Cost: 1.905957\n",
      "Epoch   13/20 Batch 2/3 Cost: 6.076348\n",
      "Epoch   13/20 Batch 3/3 Cost: 2.075233\n",
      "Epoch   14/20 Batch 1/3 Cost: 2.761055\n",
      "Epoch   14/20 Batch 2/3 Cost: 3.629809\n",
      "Epoch   14/20 Batch 3/3 Cost: 1.283368\n",
      "Epoch   15/20 Batch 1/3 Cost: 6.204185\n",
      "Epoch   15/20 Batch 2/3 Cost: 3.032546\n",
      "Epoch   15/20 Batch 3/3 Cost: 0.716324\n",
      "Epoch   16/20 Batch 1/3 Cost: 0.416912\n",
      "Epoch   16/20 Batch 2/3 Cost: 8.211861\n",
      "Epoch   16/20 Batch 3/3 Cost: 1.849892\n",
      "Epoch   17/20 Batch 1/3 Cost: 0.738462\n",
      "Epoch   17/20 Batch 2/3 Cost: 7.492731\n",
      "Epoch   17/20 Batch 3/3 Cost: 2.111838\n",
      "Epoch   18/20 Batch 1/3 Cost: 0.727227\n",
      "Epoch   18/20 Batch 2/3 Cost: 3.247038\n",
      "Epoch   18/20 Batch 3/3 Cost: 6.041277\n",
      "Epoch   19/20 Batch 1/3 Cost: 2.449152\n",
      "Epoch   19/20 Batch 2/3 Cost: 3.065991\n",
      "Epoch   19/20 Batch 3/3 Cost: 2.471635\n",
      "Epoch   20/20 Batch 1/3 Cost: 3.407318\n",
      "Epoch   20/20 Batch 2/3 Cost: 2.460396\n",
      "Epoch   20/20 Batch 3/3 Cost: 1.554880\n"
     ]
    }
   ],
   "source": [
    "nb_epochs = 20\n",
    "for epoch in range(nb_epochs + 1):\n",
    "  for batch_idx, samples in enumerate(dataloader):\n",
    "    # print(batch_idx)\n",
    "    # print(samples)\n",
    "    x_train, y_train = samples\n",
    "    # H(x) 계산\n",
    "    prediction = model(x_train)\n",
    "\n",
    "    # cost 계산\n",
    "    cost = F.mse_loss(prediction, y_train)\n",
    "\n",
    "    # cost로 H(x) 계산\n",
    "    optimizer.zero_grad()\n",
    "    cost.backward()\n",
    "    optimizer.step()\n",
    "\n",
    "    print('Epoch {:4d}/{} Batch {}/{} Cost: {:.6f}'.format(\n",
    "        epoch, nb_epochs, batch_idx+1, len(dataloader),\n",
    "        cost.item()\n",
    "        ))\n"
   ]
  },
  {
   "cell_type": "code",
   "execution_count": 9,
   "metadata": {},
   "outputs": [
    {
     "name": "stdout",
     "output_type": "stream",
     "text": [
      "훈련 후 입력이 73, 80, 75일 때의 예측값 : tensor([[152.9704]], grad_fn=<AddmmBackward0>)\n"
     ]
    }
   ],
   "source": [
    "# 임의의 입력 [73, 80, 75]를 선언\n",
    "new_var =  torch.FloatTensor([[73, 80, 75]]) \n",
    "# 입력한 값 [73, 80, 75]에 대해서 예측값 y를 리턴받아서 pred_y에 저장\n",
    "pred_y = model(new_var) \n",
    "print(\"훈련 후 입력이 73, 80, 75일 때의 예측값 :\", pred_y) "
   ]
  },
  {
   "cell_type": "markdown",
   "metadata": {},
   "source": [
    "# Custom Dataset 사용 방법"
   ]
  },
  {
   "cell_type": "code",
   "execution_count": 11,
   "metadata": {},
   "outputs": [],
   "source": [
    "from torch.utils.data import Dataset\n",
    "from torch.utils.data import DataLoader\n",
    "\n",
    "# Dataset 상속\n",
    "class CustomDataset(Dataset): \n",
    "  def __init__(self):\n",
    "    self.x_data = [[73, 80, 75],\n",
    "                   [93, 88, 93],\n",
    "                   [89, 91, 90],\n",
    "                   [96, 98, 100],\n",
    "                   [73, 66, 70]]\n",
    "    self.y_data = [[152], [185], [180], [196], [142]]\n",
    "\n",
    "  # 총 데이터의 개수를 리턴\n",
    "  def __len__(self): \n",
    "    return len(self.x_data)\n",
    "\n",
    "  # 인덱스를 입력받아 그에 맵핑되는 입출력 데이터를 파이토치의 Tensor 형태로 리턴\n",
    "  def __getitem__(self, idx): \n",
    "    x = torch.FloatTensor(self.x_data[idx])\n",
    "    y = torch.FloatTensor(self.y_data[idx])\n",
    "    return x, y\n",
    "\n",
    "    "
   ]
  },
  {
   "cell_type": "code",
   "execution_count": 12,
   "metadata": {},
   "outputs": [],
   "source": [
    "dataset = CustomDataset()\n",
    "dataloader = DataLoader(dataset, batch_size=2, shuffle=True)\n"
   ]
  },
  {
   "cell_type": "code",
   "execution_count": null,
   "metadata": {},
   "outputs": [],
   "source": []
  }
 ],
 "metadata": {
  "kernelspec": {
   "display_name": "Python 3.8.13 ('mac_cpu')",
   "language": "python",
   "name": "python3"
  },
  "language_info": {
   "codemirror_mode": {
    "name": "ipython",
    "version": 3
   },
   "file_extension": ".py",
   "mimetype": "text/x-python",
   "name": "python",
   "nbconvert_exporter": "python",
   "pygments_lexer": "ipython3",
   "version": "3.8.13"
  },
  "orig_nbformat": 4,
  "vscode": {
   "interpreter": {
    "hash": "a25b673604e404bbe71cb44188daddb26f9dca9dc7a0ddb839fa50ca7e9deea0"
   }
  }
 },
 "nbformat": 4,
 "nbformat_minor": 2
}
