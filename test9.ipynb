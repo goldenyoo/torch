{
 "cells": [
  {
   "cell_type": "markdown",
   "metadata": {},
   "source": [
    "# 2022/09/01"
   ]
  },
  {
   "cell_type": "code",
   "execution_count": null,
   "metadata": {},
   "outputs": [],
   "source": [
    "import numpy as np\n",
    "import torch\n",
    "import torch.nn as nn\n",
    "import torch.optim as optim\n",
    "import torch.nn.utils.prune as prune\n",
    "import torch.nn.functional as F\n",
    "\n",
    "from torch.utils.data import TensorDataset\n",
    "from torch.utils.data import DataLoader\n",
    "from torch.utils.data import random_split\n",
    "\n",
    "from scipy import io\n",
    "import os"
   ]
  },
  {
   "cell_type": "code",
   "execution_count": null,
   "metadata": {},
   "outputs": [],
   "source": [
    "import wandb\n",
    "# wandb.init(project=\"test\")"
   ]
  },
  {
   "cell_type": "code",
   "execution_count": null,
   "metadata": {},
   "outputs": [],
   "source": [
    "sweep_config = {\n",
    "    'method': 'grid'\n",
    "    }\n",
    "\n",
    "parameters_dict = {\n",
    "    'hidden_size': {\n",
    "        'values': [2, 4, 8, 16]\n",
    "        },\n",
    "    'batch_size': {\n",
    "        'values': [32, 64, 128]\n",
    "        },\n",
    "    'optimizer': {\n",
    "        'values': ['adam', 'sgd']\n",
    "        },\n",
    "    'epochs': {\n",
    "        'value': 300\n",
    "        },\n",
    "    'learning_rate': {\n",
    "        'values': [0.1, 0.01]\n",
    "      },\n",
    "    }\n",
    "\n",
    "sweep_config['parameters'] = parameters_dict"
   ]
  },
  {
   "cell_type": "code",
   "execution_count": null,
   "metadata": {},
   "outputs": [],
   "source": [
    "sweep_id = wandb.sweep(sweep_config, project=\"Peter1\")\n",
    "config = wandb.config"
   ]
  },
  {
   "cell_type": "markdown",
   "metadata": {},
   "source": [
    "### MAT file에서 data 읽고 준비"
   ]
  },
  {
   "cell_type": "code",
   "execution_count": null,
   "metadata": {},
   "outputs": [],
   "source": [
    "# mat_file = io.loadmat('/Users/goldenyoo/Library/Mobile Documents/com~apple~CloudDocs/BioCAS_prepare/Python_code/Data_center/one_dx/Calib_data_1.mat')\n",
    "mat_file = io.loadmat('C:/Users/Peter/iCloudDrive/BioCAS_prepare/Python_code/Data_center/one_dx/Calib_data_1.mat')\n",
    "\n",
    "K1 = mat_file['K1']\n",
    "A1 = mat_file['A1']\n",
    "\n",
    "K2 = mat_file['K2']\n",
    "A2 = mat_file['A2']\n",
    "\n",
    "Y1 = mat_file['Y1']\n",
    "Y2 = mat_file['Y2']"
   ]
  },
  {
   "cell_type": "code",
   "execution_count": null,
   "metadata": {},
   "outputs": [],
   "source": [
    "# K 특성에 대한 Class1 vs Class2 Data 가져오기\n",
    "k1 = torch.FloatTensor(K1)\n",
    "k1 = k1.transpose(0,2)\n",
    "\n",
    "k2 = torch.FloatTensor(K2)\n",
    "k2 = k2.transpose(0,2)\n",
    "\n",
    "# A 특성에 대한 Class1 vs Class2 Data 가져오기\n",
    "a1 = torch.FloatTensor(A1)\n",
    "a1 = a1.transpose(0,2)\n",
    "\n",
    "a2 = torch.FloatTensor(A2)\n",
    "a2 = a2.transpose(0,2)\n",
    "\n",
    "print( \"Total_data: {}\".format(k1.size()[0]), \"/ input_size: {}\".format(k1.size()[1]),\"/ Seq_len: {}\\n\".format(k1.size()[2]))\n",
    "print(\"k1 size: \",k1.size())\n",
    "print(\"k2 size: \",k2.size())\n",
    "print(\"a1 size: \",a1.size())\n",
    "print(\"a2 size: \",a2.size())\n",
    "\n",
    "# Y에 대한 Class1 vs Class2 Data 가져오기\n",
    "y1 = torch.LongTensor(Y1)\n",
    "y2 = torch.LongTensor(Y2)\n",
    "\n",
    "print(\"\\ny1 size:\",y1.size())\n",
    "print(\"y2 size:\",y2.size())"
   ]
  },
  {
   "cell_type": "markdown",
   "metadata": {},
   "source": [
    "### Train data 만들기"
   ]
  },
  {
   "cell_type": "code",
   "execution_count": null,
   "metadata": {},
   "outputs": [],
   "source": [
    "k_train = torch.cat([k1,k2],dim=0)\n",
    "a_train = torch.cat([a1,a2],dim=0)\n",
    "\n",
    "y_train = torch.cat([y1,y2],dim=0)\n",
    "print(\"k_train size: {}\".format(k_train.size()))\n",
    "print(\"a_train size: {}\".format(a_train.size()))\n",
    "print(\"y_train size: {}\".format(y_train.size()))\n",
    "\n",
    "# One-Hot 코딩이 필요없다고 한다,,,\n",
    "# y_train_one_hot = F.one_hot(y_train-1,num_classes=2)\n",
    "# print(y_train_one_hot.size())\n",
    "# y_train_one_hot.squeeze_()\n",
    "# print(y_train_one_hot.size())\n",
    "\n",
    "y_train = y_train-1 # y를 0~1의 정수로 만들어야함.\n",
    "print(y_train.size())"
   ]
  },
  {
   "cell_type": "markdown",
   "metadata": {},
   "source": [
    "### Test data 만들기"
   ]
  },
  {
   "cell_type": "code",
   "execution_count": null,
   "metadata": {},
   "outputs": [],
   "source": [
    "# mat_file = io.loadmat('/Users/goldenyoo/Library/Mobile Documents/com~apple~CloudDocs/BioCAS_prepare/Python_code/Data_center/one_dx/Eval_data_1.mat')\n",
    "mat_file = io.loadmat('C:/Users/Peter/iCloudDrive/BioCAS_prepare/Python_code/Data_center/one_dx/Eval_data_1.mat')\n",
    "\n",
    "K1 = mat_file['KT1']\n",
    "A1 = mat_file['AT1']\n",
    "\n",
    "K2 = mat_file['KT2']\n",
    "A2 = mat_file['AT2']\n",
    "\n",
    "Y1 = mat_file['YT1']\n",
    "Y2 = mat_file['YT2']\n",
    "\n",
    "# K 특성에 대한 Class1 vs Class2 Data 가져오기\n",
    "k1 = torch.FloatTensor(K1)\n",
    "k1 = k1.transpose(0,2)\n",
    "\n",
    "k2 = torch.FloatTensor(K2)\n",
    "k2 = k2.transpose(0,2)\n",
    "\n",
    "# A 특성에 대한 Class1 vs Class2 Data 가져오기\n",
    "a1 = torch.FloatTensor(A1)\n",
    "a1 = a1.transpose(0,2)\n",
    "\n",
    "a2 = torch.FloatTensor(A2)\n",
    "a2 = a2.transpose(0,2)\n",
    "\n",
    "print( \"Total_data: {}\".format(k1.size()[0]), \"/ input_size: {}\".format(k1.size()[1]),\"/ Seq_len: {}\\n\".format(k1.size()[2]))\n",
    "print(\"k1 size: \",k1.size())\n",
    "print(\"k2 size: \",k2.size())\n",
    "print(\"a1 size: \",a1.size())\n",
    "print(\"a2 size: \",a2.size())\n",
    "\n",
    "# Y에 대한 Class1 vs Class2 Data 가져오기\n",
    "y1 = torch.LongTensor(Y1)\n",
    "y2 = torch.LongTensor(Y2)\n",
    "\n",
    "print(\"\\ny1 size:\",y1.size())\n",
    "print(\"y2 size:\",y2.size())\n",
    "\n",
    "\n",
    "# Test data 만들기\n",
    "k_test = torch.cat([k1,k2],dim=0)\n",
    "a_test = torch.cat([a1,a2],dim=0)\n",
    "\n",
    "y_test = torch.cat([y1,y2],dim=0)\n",
    "print(\"k_test size: {}\".format(k_test.size()))\n",
    "print(\"a_test size: {}\".format(a_test.size()))\n",
    "print(\"y_test size: {}\".format(y_test.size()))\n",
    "\n",
    "y_test = y_test-1 # y를 0~1의 정수로 만들어야함.\n",
    "print(y_test.size())"
   ]
  },
  {
   "cell_type": "markdown",
   "metadata": {},
   "source": [
    "### Dataset & DataLoader"
   ]
  },
  {
   "cell_type": "code",
   "execution_count": null,
   "metadata": {},
   "outputs": [],
   "source": [
    "def build_dataset(batch_size):\n",
    "    dataset_train = TensorDataset(k_train   ,a_train,   y_train) # 각 tensor의 첫번째 dim이 일치해야한다\n",
    "    dataset_test  = TensorDataset(k_test    ,a_test ,   y_test ) # 각 tensor의 첫번째 dim이 일치해야한다\n",
    "\n",
    "    # Data Split\n",
    "    dataset_size = len(dataset_train)\n",
    "    train_size = int(dataset_size * 0.8)\n",
    "    validation_size = dataset_size - train_size\n",
    "    train_dataset, valid_dataset = random_split(dataset_train, [train_size, validation_size])\n",
    "\n",
    "    train_dataloader    = DataLoader(train_dataset  ,batch_size=      batch_size  , shuffle=True, drop_last=True)\n",
    "    valid_dataloader    = DataLoader(valid_dataset  ,batch_size= int(batch_size/8), shuffle=True, drop_last=True)\n",
    "\n",
    "    # Data Split\n",
    "    test_size = len(dataset_test)\n",
    "    test_dataloader = DataLoader(dataset_test, batch_size= test_size, shuffle=True, drop_last=True)\n",
    "\n",
    "    return train_dataloader, valid_dataloader, test_dataloader, test_size"
   ]
  },
  {
   "cell_type": "code",
   "execution_count": null,
   "metadata": {},
   "outputs": [],
   "source": [
    "def build_optimizer(network, optimizer, learning_rate):\n",
    "    if optimizer == \"sgd\":\n",
    "        optimizer = optim.SGD(network.parameters(),\n",
    "                              lr=learning_rate, momentum=0.9)\n",
    "    elif optimizer == \"adam\":\n",
    "        optimizer = optim.Adam(network.parameters(),\n",
    "                               lr=learning_rate)\n",
    "    return optimizer\n"
   ]
  },
  {
   "cell_type": "code",
   "execution_count": null,
   "metadata": {},
   "outputs": [],
   "source": [
    "input_size = 22\n",
    "n_class = 2\n",
    "\n",
    "dtype = torch.float\n",
    "\n",
    "class TextLSTM(nn.Module):\n",
    "  def __init__(self,hidden_size):\n",
    "    super(TextLSTM, self).__init__()\n",
    "\n",
    "    self.lstm_1 = nn.LSTM(input_size=input_size, hidden_size=hidden_size, dropout=0.3)\n",
    "    self.lstm_2 = nn.LSTM(input_size=input_size, hidden_size=hidden_size, dropout=0.3)\n",
    "    self.fc = nn.Linear(hidden_size*2, n_class)\n",
    "\n",
    "  def forward(self, hidden_and_cell_k, hidden_and_cell_a, K_and_A):\n",
    "    (k, a) = K_and_A\n",
    "\n",
    "    k = k.transpose(1,2)\n",
    "    k = k.transpose(0,1)\n",
    "    a = a.transpose(1,2)\n",
    "    a = a.transpose(0,1)\n",
    "\n",
    "    outputs1, (h_n1,c_n1) = self.lstm_1(k, hidden_and_cell_k)\n",
    "    outputs2, (h_n2,c_n2) = self.lstm_2(a, hidden_and_cell_a)\n",
    "\n",
    "    outputs = torch.cat((h_n1[-1],h_n2[-1]), dim=1)  \n",
    "\n",
    "    model = self.fc(outputs)  # 최종 예측 최종 출력 층\n",
    "    return model"
   ]
  },
  {
   "cell_type": "code",
   "execution_count": null,
   "metadata": {},
   "outputs": [],
   "source": [
    "def train(config=None):\n",
    "    # Initialize a new wandb run\n",
    "    with wandb.init(config=config):\n",
    "        # If called by wandb.agent, as below,\n",
    "        # this config will be set by Sweep Controller\n",
    "        config = wandb.config\n",
    "\n",
    "        model = TextLSTM(hidden_size=config.hidden_size)\n",
    "        criterion = nn.CrossEntropyLoss()\n",
    "        optimizer = build_optimizer(model, config.optimizer, config.learning_rate)\n",
    "\n",
    "        model.train()\n",
    "        \n",
    "        train_dataloader, valid_dataloader, test_dataloader, test_size = build_dataset(config.batch_size)\n",
    "\n",
    "        for epoch in range(config.epochs):\n",
    "            for batch_idx, samples in enumerate(train_dataloader):\n",
    "\n",
    "                k_train_mb, a_train_mb, y_train_mb = samples \n",
    "\n",
    "                hidden_k  = torch.zeros(1, config.batch_size, config.hidden_size, requires_grad=True)\n",
    "                cell_k    = torch.zeros(1, config.batch_size, config.hidden_size, requires_grad=True)\n",
    "                hidden_a  = torch.zeros(1, config.batch_size, config.hidden_size, requires_grad=True)\n",
    "                cell_a    = torch.zeros(1, config.batch_size, config.hidden_size, requires_grad=True)\n",
    "\n",
    "                # Forward\n",
    "                output = model((hidden_k, cell_k), (hidden_a, cell_a), (k_train_mb,a_train_mb))\n",
    "\n",
    "                # Cost\n",
    "                loss = criterion(output, y_train_mb.squeeze())\n",
    "\n",
    "                wandb.log({\"loss\": loss})\n",
    "\n",
    "                if (epoch) % 100 == 0 and batch_idx % 10 == 0:\n",
    "                    print('Epoch {:3d}/{} Batch: {:2d} Cost: {:.6f}'.format(epoch, config.epochs, batch_idx, loss))\n",
    "                \n",
    "                # Backpropagate\n",
    "                optimizer.zero_grad()\n",
    "                loss.backward()\n",
    "                optimizer.step()\n",
    "\n",
    "        model.eval()\n",
    "\n",
    "        for batch_idx, samples in enumerate(test_dataloader):\n",
    "            k_train_mb, a_train_mb, y_train_mb = samples \n",
    "\n",
    "            hidden_k    = torch.zeros(1, test_size, config.hidden_size)\n",
    "            cell_k      = torch.zeros(1, test_size, config.hidden_size)\n",
    "            hidden_a    = torch.zeros(1, test_size, config.hidden_size)\n",
    "            cell_a      = torch.zeros(1, test_size, config.hidden_size)\n",
    "\n",
    "            output = model((hidden_k, cell_k), (hidden_a, cell_a), (k_train_mb,a_train_mb))\n",
    "            prediction = output.argmax(dim=1)\n",
    "            correct = prediction.eq(y_train_mb.view_as(prediction)).sum().item()\n",
    "            print(correct/test_size)\n",
    "            wandb.log({\"accuracy\": correct/test_size})"
   ]
  },
  {
   "cell_type": "code",
   "execution_count": null,
   "metadata": {},
   "outputs": [],
   "source": [
    "wandb.agent(sweep_id, train)"
   ]
  },
  {
   "cell_type": "code",
   "execution_count": null,
   "metadata": {},
   "outputs": [],
   "source": [
    "wandb.finish()"
   ]
  }
 ],
 "metadata": {
  "kernelspec": {
   "display_name": "Python 3.9.12 ('Dog')",
   "language": "python",
   "name": "python3"
  },
  "language_info": {
   "codemirror_mode": {
    "name": "ipython",
    "version": 3
   },
   "file_extension": ".py",
   "mimetype": "text/x-python",
   "name": "python",
   "nbconvert_exporter": "python",
   "pygments_lexer": "ipython3",
   "version": "3.9.12"
  },
  "orig_nbformat": 4,
  "vscode": {
   "interpreter": {
    "hash": "ab4984ed97500ca254ca5af09d277b6c795fde8f8b0fa1c645194a749afb952d"
   }
  }
 },
 "nbformat": 4,
 "nbformat_minor": 2
}
