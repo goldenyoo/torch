{
 "cells": [
  {
   "cell_type": "code",
   "execution_count": 1,
   "metadata": {},
   "outputs": [
    {
     "name": "stderr",
     "output_type": "stream",
     "text": [
      "/Users/goldenyoo/miniforge3/envs/mac_cpu/lib/python3.8/site-packages/tqdm/auto.py:22: TqdmWarning: IProgress not found. Please update jupyter and ipywidgets. See https://ipywidgets.readthedocs.io/en/stable/user_install.html\n",
      "  from .autonotebook import tqdm as notebook_tqdm\n"
     ]
    }
   ],
   "source": [
    "import numpy as np\n",
    "import torch\n",
    "import torch.nn as nn\n",
    "import torch.optim as optim\n",
    "import torch.nn.utils.prune as prune\n",
    "\n",
    "from scipy import io\n",
    "import os"
   ]
  },
  {
   "cell_type": "code",
   "execution_count": null,
   "metadata": {},
   "outputs": [],
   "source": [
    "mat_file = io.loadmat('/Users/goldenyoo/Library/Mobile Documents/com~apple~CloudDocs/BioCAS_prepare/Python_code/Data_center/one_dx/Calib_data_1.mat')"
   ]
  },
  {
   "cell_type": "code",
   "execution_count": null,
   "metadata": {},
   "outputs": [],
   "source": [
    "K1 = mat_file['K1']\n",
    "A1 = mat_file['A1']\n",
    "\n",
    "K2 = mat_file['K2']\n",
    "A2 = mat_file['A2']\n",
    "\n",
    "# K1 = np.swapaxes(K1,0,2)\n",
    "# K1 = np.swapaxes(K1,1,2)\n",
    "# A1 = np.swapaxes(A1,0,2)\n",
    "# A1 = np.swapaxes(A1,1,2)\n",
    "\n",
    "# K2 = np.swapaxes(K2,0,2)\n",
    "# K2 = np.swapaxes(K2,1,2)\n",
    "# A2 = np.swapaxes(A2,0,2)\n",
    "# A2 = np.swapaxes(A2,1,2)\n",
    "\n",
    "\n",
    "Y1 = mat_file['Y1']\n",
    "Y2 = mat_file['Y2']"
   ]
  },
  {
   "cell_type": "code",
   "execution_count": null,
   "metadata": {},
   "outputs": [],
   "source": [
    "k1 = torch.FloatTensor(K1)"
   ]
  },
  {
   "cell_type": "code",
   "execution_count": 23,
   "metadata": {},
   "outputs": [],
   "source": [
    "seq_len = 300\n",
    "batch_size = 8\n",
    "hidden_size = 3\n",
    "lstm_output_size = hidden_size\n",
    "input_size = 22\n",
    "n_class = 2\n",
    "\n",
    "dtype = torch.float\n",
    "\n",
    "class TextLSTM(nn.Module):\n",
    "  def __init__(self):\n",
    "    super(TextLSTM, self).__init__()\n",
    "\n",
    "    self.lstm_1 = nn.LSTM(input_size=input_size, hidden_size=hidden_size, dropout=0.3)\n",
    "    self.lstm_2 = nn.LSTM(input_size=input_size, hidden_size=hidden_size, dropout=0.3)\n",
    "    self.fc = nn.Linear(hidden_size*2, n_class)\n",
    "\n",
    "  def forward(self, X, hidden_and_cell):\n",
    "    outputs1, (h_n1,c_n1) = self.lstm_1(X, hidden_and_cell)\n",
    "    outputs2, (h_n2,c_n2) = self.lstm_2(X, hidden_and_cell)\n",
    "\n",
    "    outputs = torch.cat((h_n1[-1],h_n2[-1]), dim=2)  \n",
    "\n",
    "    model = self.fc(outputs)  # 최종 예측 최종 출력 층\n",
    "    return model"
   ]
  },
  {
   "cell_type": "code",
   "execution_count": 24,
   "metadata": {},
   "outputs": [
    {
     "name": "stdout",
     "output_type": "stream",
     "text": [
      "TextLSTM(\n",
      "  (lstm_1): LSTM(22, 3, dropout=0.3)\n",
      "  (lstm_2): LSTM(22, 3, dropout=0.3)\n",
      "  (fc): Linear(in_features=6, out_features=2, bias=True)\n",
      ")\n"
     ]
    },
    {
     "name": "stderr",
     "output_type": "stream",
     "text": [
      "/Users/goldenyoo/miniforge3/envs/mac_cpu/lib/python3.8/site-packages/torch/nn/modules/rnn.py:62: UserWarning: dropout option adds dropout after all but last recurrent layer, so non-zero dropout expects num_layers greater than 1, but got dropout=0.3 and num_layers=1\n",
      "  warnings.warn(\"dropout option adds dropout after all but last \"\n"
     ]
    }
   ],
   "source": [
    "model = TextLSTM()\n",
    "print(model)"
   ]
  },
  {
   "cell_type": "code",
   "execution_count": 18,
   "metadata": {},
   "outputs": [
    {
     "name": "stdout",
     "output_type": "stream",
     "text": [
      "input size:  torch.Size([16, 1, 22])\n"
     ]
    },
    {
     "ename": "IndexError",
     "evalue": "Dimension out of range (expected to be in range of [-2, 1], but got 2)",
     "output_type": "error",
     "traceback": [
      "\u001b[0;31m---------------------------------------------------------------------------\u001b[0m",
      "\u001b[0;31mIndexError\u001b[0m                                Traceback (most recent call last)",
      "\u001b[1;32m/Users/goldenyoo/Library/Mobile Documents/com~apple~CloudDocs/Pytorch/test9.ipynb 셀 7\u001b[0m in \u001b[0;36m<cell line: 7>\u001b[0;34m()\u001b[0m\n\u001b[1;32m      <a href='vscode-notebook-cell:/Users/goldenyoo/Library/Mobile%20Documents/com~apple~CloudDocs/Pytorch/test9.ipynb#X11sZmlsZQ%3D%3D?line=2'>3</a>\u001b[0m cell \u001b[39m=\u001b[39m torch\u001b[39m.\u001b[39mzeros(\u001b[39m1\u001b[39m, \u001b[39m1\u001b[39m, n_hidden, requires_grad\u001b[39m=\u001b[39m\u001b[39mTrue\u001b[39;00m)\n\u001b[1;32m      <a href='vscode-notebook-cell:/Users/goldenyoo/Library/Mobile%20Documents/com~apple~CloudDocs/Pytorch/test9.ipynb#X11sZmlsZQ%3D%3D?line=4'>5</a>\u001b[0m \u001b[39mprint\u001b[39m(\u001b[39m\"\u001b[39m\u001b[39minput size: \u001b[39m\u001b[39m\"\u001b[39m,\u001b[39minput\u001b[39m\u001b[39m.\u001b[39msize())\n\u001b[0;32m----> <a href='vscode-notebook-cell:/Users/goldenyoo/Library/Mobile%20Documents/com~apple~CloudDocs/Pytorch/test9.ipynb#X11sZmlsZQ%3D%3D?line=6'>7</a>\u001b[0m model(\u001b[39minput\u001b[39;49m,(hidden,cell))\n",
      "File \u001b[0;32m~/miniforge3/envs/mac_cpu/lib/python3.8/site-packages/torch/nn/modules/module.py:1110\u001b[0m, in \u001b[0;36mModule._call_impl\u001b[0;34m(self, *input, **kwargs)\u001b[0m\n\u001b[1;32m   1106\u001b[0m \u001b[39m# If we don't have any hooks, we want to skip the rest of the logic in\u001b[39;00m\n\u001b[1;32m   1107\u001b[0m \u001b[39m# this function, and just call forward.\u001b[39;00m\n\u001b[1;32m   1108\u001b[0m \u001b[39mif\u001b[39;00m \u001b[39mnot\u001b[39;00m (\u001b[39mself\u001b[39m\u001b[39m.\u001b[39m_backward_hooks \u001b[39mor\u001b[39;00m \u001b[39mself\u001b[39m\u001b[39m.\u001b[39m_forward_hooks \u001b[39mor\u001b[39;00m \u001b[39mself\u001b[39m\u001b[39m.\u001b[39m_forward_pre_hooks \u001b[39mor\u001b[39;00m _global_backward_hooks\n\u001b[1;32m   1109\u001b[0m         \u001b[39mor\u001b[39;00m _global_forward_hooks \u001b[39mor\u001b[39;00m _global_forward_pre_hooks):\n\u001b[0;32m-> 1110\u001b[0m     \u001b[39mreturn\u001b[39;00m forward_call(\u001b[39m*\u001b[39;49m\u001b[39minput\u001b[39;49m, \u001b[39m*\u001b[39;49m\u001b[39m*\u001b[39;49mkwargs)\n\u001b[1;32m   1111\u001b[0m \u001b[39m# Do not call functions when jit is used\u001b[39;00m\n\u001b[1;32m   1112\u001b[0m full_backward_hooks, non_full_backward_hooks \u001b[39m=\u001b[39m [], []\n",
      "\u001b[1;32m/Users/goldenyoo/Library/Mobile Documents/com~apple~CloudDocs/Pytorch/test9.ipynb 셀 7\u001b[0m in \u001b[0;36mTextLSTM.forward\u001b[0;34m(self, X, hidden_and_cell)\u001b[0m\n\u001b[1;32m     <a href='vscode-notebook-cell:/Users/goldenyoo/Library/Mobile%20Documents/com~apple~CloudDocs/Pytorch/test9.ipynb#X11sZmlsZQ%3D%3D?line=16'>17</a>\u001b[0m outputs1, (h_n1,c_n1) \u001b[39m=\u001b[39m \u001b[39mself\u001b[39m\u001b[39m.\u001b[39mlstm_1(X, hidden_and_cell)\n\u001b[1;32m     <a href='vscode-notebook-cell:/Users/goldenyoo/Library/Mobile%20Documents/com~apple~CloudDocs/Pytorch/test9.ipynb#X11sZmlsZQ%3D%3D?line=17'>18</a>\u001b[0m outputs2, (h_n2,c_n2) \u001b[39m=\u001b[39m \u001b[39mself\u001b[39m\u001b[39m.\u001b[39mlstm_2(X, hidden_and_cell)\n\u001b[0;32m---> <a href='vscode-notebook-cell:/Users/goldenyoo/Library/Mobile%20Documents/com~apple~CloudDocs/Pytorch/test9.ipynb#X11sZmlsZQ%3D%3D?line=19'>20</a>\u001b[0m outputs \u001b[39m=\u001b[39m torch\u001b[39m.\u001b[39;49mcat((h_n1[\u001b[39m-\u001b[39;49m\u001b[39m1\u001b[39;49m],h_n2[\u001b[39m-\u001b[39;49m\u001b[39m1\u001b[39;49m]), dim\u001b[39m=\u001b[39;49m\u001b[39m2\u001b[39;49m)  \u001b[39m# 최종 예측 Hidden Layer\u001b[39;00m\n\u001b[1;32m     <a href='vscode-notebook-cell:/Users/goldenyoo/Library/Mobile%20Documents/com~apple~CloudDocs/Pytorch/test9.ipynb#X11sZmlsZQ%3D%3D?line=21'>22</a>\u001b[0m model \u001b[39m=\u001b[39m \u001b[39mself\u001b[39m\u001b[39m.\u001b[39mfc(outputs)  \u001b[39m# 최종 예측 최종 출력 층\u001b[39;00m\n\u001b[1;32m     <a href='vscode-notebook-cell:/Users/goldenyoo/Library/Mobile%20Documents/com~apple~CloudDocs/Pytorch/test9.ipynb#X11sZmlsZQ%3D%3D?line=22'>23</a>\u001b[0m \u001b[39mreturn\u001b[39;00m model\n",
      "\u001b[0;31mIndexError\u001b[0m: Dimension out of range (expected to be in range of [-2, 1], but got 2)"
     ]
    }
   ],
   "source": [
    "input = torch.zeros(n_timeStep, 1, n_channel)\n",
    "hidden = torch.zeros(1, 1, n_hidden, requires_grad=True)\n",
    "cell = torch.zeros(1, 1, n_hidden, requires_grad=True)\n",
    "\n",
    "print(\"input size: \",input.size())\n",
    "\n",
    "model(input,(hidden,cell))"
   ]
  },
  {
   "cell_type": "code",
   "execution_count": 20,
   "metadata": {},
   "outputs": [
    {
     "name": "stdout",
     "output_type": "stream",
     "text": [
      "tensor([[[-0.2263,  0.5266, -0.2662, -0.4090,  1.2948,  0.0481, -1.1158,\n",
      "          -0.1250, -0.9933,  1.0017,  0.5295, -0.0893, -1.3164,  0.6437,\n",
      "           1.4094,  1.7076],\n",
      "         [ 0.8200,  0.6360,  0.2685, -0.5715, -1.5548,  0.2716,  0.8671,\n",
      "          -1.0428, -1.8106,  1.0006,  2.8846, -0.9818, -0.3597,  0.5719,\n",
      "           0.7379,  1.5514],\n",
      "         [ 0.0530,  0.0608, -1.3184, -0.1630, -0.1283, -0.1292, -0.7647,\n",
      "           1.8540,  0.1507,  0.6885,  0.9244,  0.5030,  0.2170, -1.6820,\n",
      "           0.8214, -1.5395],\n",
      "         [ 0.8364, -0.0582,  1.1133,  0.2993,  1.6734, -1.9486,  0.5429,\n",
      "           1.3786,  0.0290,  1.1851, -0.8030,  0.5502, -0.3045, -1.2143,\n",
      "           0.1386,  0.6613],\n",
      "         [-0.4581, -1.5599,  0.9319,  1.5936,  0.9931, -0.3526, -0.2520,\n",
      "           0.0312,  1.1070, -0.6188,  0.1242,  0.6315, -1.2922, -1.9808,\n",
      "           0.3748, -0.8462],\n",
      "         [-0.5821, -0.0273, -0.8419, -0.2217,  0.3885,  2.0175, -0.4445,\n",
      "          -0.3909, -0.4055,  0.5667, -1.1184,  1.5787, -0.4842, -1.5889,\n",
      "           1.1601,  0.5785]]])\n"
     ]
    }
   ],
   "source": [
    "x = torch.randn(1, 6,16)\n",
    "print(x)"
   ]
  },
  {
   "cell_type": "code",
   "execution_count": 22,
   "metadata": {},
   "outputs": [
    {
     "data": {
      "text/plain": [
       "torch.Size([6, 16])"
      ]
     },
     "execution_count": 22,
     "metadata": {},
     "output_type": "execute_result"
    }
   ],
   "source": [
    "x[-1].size()"
   ]
  }
 ],
 "metadata": {
  "kernelspec": {
   "display_name": "Python 3.8.13 ('mac_cpu')",
   "language": "python",
   "name": "python3"
  },
  "language_info": {
   "codemirror_mode": {
    "name": "ipython",
    "version": 3
   },
   "file_extension": ".py",
   "mimetype": "text/x-python",
   "name": "python",
   "nbconvert_exporter": "python",
   "pygments_lexer": "ipython3",
   "version": "3.8.13"
  },
  "orig_nbformat": 4,
  "vscode": {
   "interpreter": {
    "hash": "a25b673604e404bbe71cb44188daddb26f9dca9dc7a0ddb839fa50ca7e9deea0"
   }
  }
 },
 "nbformat": 4,
 "nbformat_minor": 2
}
