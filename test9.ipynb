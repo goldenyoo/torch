{
 "cells": [
  {
   "cell_type": "code",
   "execution_count": 1,
   "metadata": {},
   "outputs": [
    {
     "name": "stderr",
     "output_type": "stream",
     "text": [
      "/Users/goldenyoo/miniforge3/envs/mac_cpu/lib/python3.8/site-packages/tqdm/auto.py:22: TqdmWarning: IProgress not found. Please update jupyter and ipywidgets. See https://ipywidgets.readthedocs.io/en/stable/user_install.html\n",
      "  from .autonotebook import tqdm as notebook_tqdm\n"
     ]
    }
   ],
   "source": [
    "import numpy as np\n",
    "import torch\n",
    "import torch.nn as nn\n",
    "import torch.optim as optim\n",
    "import torch.nn.utils.prune as prune\n",
    "\n",
    "from scipy import io\n",
    "import os"
   ]
  },
  {
   "cell_type": "code",
   "execution_count": 2,
   "metadata": {},
   "outputs": [],
   "source": [
    "mat_file = io.loadmat('/Users/goldenyoo/Library/Mobile Documents/com~apple~CloudDocs/BioCAS_prepare/Python_code/Data_center/one_dx/Calib_data_1.mat')\n"
   ]
  },
  {
   "cell_type": "code",
   "execution_count": 3,
   "metadata": {},
   "outputs": [],
   "source": [
    "K1 = mat_file['K1']\n",
    "A1 = mat_file['A1']\n",
    "\n",
    "K2 = mat_file['K2']\n",
    "A2 = mat_file['A2']\n",
    "\n",
    "# K1 = np.swapaxes(K1,0,2)\n",
    "# K1 = np.swapaxes(K1,1,2)\n",
    "# A1 = np.swapaxes(A1,0,2)\n",
    "# A1 = np.swapaxes(A1,1,2)\n",
    "\n",
    "# K2 = np.swapaxes(K2,0,2)\n",
    "# K2 = np.swapaxes(K2,1,2)\n",
    "# A2 = np.swapaxes(A2,0,2)\n",
    "# A2 = np.swapaxes(A2,1,2)\n",
    "\n",
    "\n",
    "Y1 = mat_file['Y1']\n",
    "Y2 = mat_file['Y2']"
   ]
  },
  {
   "cell_type": "code",
   "execution_count": 4,
   "metadata": {},
   "outputs": [],
   "source": [
    "k1 = torch.FloatTensor(K1)"
   ]
  },
  {
   "cell_type": "code",
   "execution_count": 11,
   "metadata": {},
   "outputs": [],
   "source": [
    "n_class = 22\n",
    "n_hidden = 16\n",
    "dtype = torch.float\n",
    "\n",
    "class TextLSTM(nn.Module):\n",
    "  def __init__(self):\n",
    "    super(TextLSTM, self).__init__()\n",
    "\n",
    "    self.lstm = nn.LSTM(input_size=n_class, hidden_size=n_hidden, dropout=0.3)\n",
    "    self.W = nn.Parameter(torch.randn([n_hidden, n_class]).type(dtype))\n",
    "    self.b = nn.Parameter(torch.randn([n_class]).type(dtype))\n",
    "    # self.Softmax = nn.Softmax(dim=1) # softmax 포함되어있다고 하지 않았나? CrossEntropyLoss에...\n",
    "\n",
    "  def forward(self, hidden_and_cell, X):\n",
    "    X = X.transpose(0, 1)\n",
    "    # outputs, hidden = self.lstm(X, hidden_and_cell)\n",
    "    # outputs = outputs[-1]  # 최종 예측 Hidden Layer\n",
    "    print(X.size())\n",
    "    outputs, (h_n,c_n) = self.lstm(X, hidden_and_cell)\n",
    "    # print(h_n.size())\n",
    "    outputs = h_n[-1]  # 최종 예측 Hidden Layer\n",
    "\n",
    "    model = torch.mm(outputs, self.W) + self.b  # 최종 예측 최종 출력 층\n",
    "    return model"
   ]
  },
  {
   "cell_type": "code",
   "execution_count": 15,
   "metadata": {},
   "outputs": [
    {
     "name": "stderr",
     "output_type": "stream",
     "text": [
      "/Users/goldenyoo/miniforge3/envs/mac_cpu/lib/python3.8/site-packages/torch/nn/modules/rnn.py:62: UserWarning: dropout option adds dropout after all but last recurrent layer, so non-zero dropout expects num_layers greater than 1, but got dropout=0.3 and num_layers=1\n",
      "  warnings.warn(\"dropout option adds dropout after all but last \"\n"
     ]
    }
   ],
   "source": [
    "model = TextLSTM()\n",
    "\n",
    "module_1 = model.lstm"
   ]
  },
  {
   "cell_type": "code",
   "execution_count": 18,
   "metadata": {},
   "outputs": [
    {
     "data": {
      "text/plain": [
       "'weight_ih_l0'"
      ]
     },
     "execution_count": 18,
     "metadata": {},
     "output_type": "execute_result"
    }
   ],
   "source": [
    "list(module_1.named_parameters())[0][0]"
   ]
  }
 ],
 "metadata": {
  "kernelspec": {
   "display_name": "Python 3.8.13 ('mac_cpu')",
   "language": "python",
   "name": "python3"
  },
  "language_info": {
   "codemirror_mode": {
    "name": "ipython",
    "version": 3
   },
   "file_extension": ".py",
   "mimetype": "text/x-python",
   "name": "python",
   "nbconvert_exporter": "python",
   "pygments_lexer": "ipython3",
   "version": "3.8.13"
  },
  "orig_nbformat": 4,
  "vscode": {
   "interpreter": {
    "hash": "a25b673604e404bbe71cb44188daddb26f9dca9dc7a0ddb839fa50ca7e9deea0"
   }
  }
 },
 "nbformat": 4,
 "nbformat_minor": 2
}
