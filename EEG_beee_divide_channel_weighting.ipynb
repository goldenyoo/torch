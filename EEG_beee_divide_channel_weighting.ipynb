{
 "cells": [
  {
   "cell_type": "markdown",
   "metadata": {},
   "source": [
    "# 2022/09/08"
   ]
  },
  {
   "cell_type": "code",
   "execution_count": 1,
   "metadata": {},
   "outputs": [],
   "source": [
    "import numpy as np\n",
    "import torch\n",
    "import torch.nn as nn\n",
    "import torch.optim as optim\n",
    "import torch.nn.utils.prune as prune\n",
    "import torch.nn.functional as F\n",
    "\n",
    "from torch.utils.data import TensorDataset\n",
    "from torch.utils.data import DataLoader\n",
    "from torch.utils.data import random_split\n",
    "from torchmetrics import CohenKappa\n",
    "\n",
    "import gc\n",
    "\n",
    "from scipy import io\n",
    "import os\n",
    "import wandb"
   ]
  },
  {
   "cell_type": "code",
   "execution_count": 2,
   "metadata": {},
   "outputs": [
    {
     "name": "stdout",
     "output_type": "stream",
     "text": [
      "cuda\n"
     ]
    }
   ],
   "source": [
    "device = torch.device(\"cuda\" if torch.cuda.is_available() else \"cpu\")\n",
    "print(device)"
   ]
  },
  {
   "cell_type": "code",
   "execution_count": 3,
   "metadata": {},
   "outputs": [
    {
     "name": "stderr",
     "output_type": "stream",
     "text": [
      "Failed to detect the name of this notebook, you can set it manually with the WANDB_NOTEBOOK_NAME environment variable to enable code saving.\n"
     ]
    },
    {
     "ename": "KeyboardInterrupt",
     "evalue": "",
     "output_type": "error",
     "traceback": [
      "\u001b[1;31m---------------------------------------------------------------------------\u001b[0m",
      "\u001b[1;31mKeyboardInterrupt\u001b[0m                         Traceback (most recent call last)",
      "\u001b[1;32mc:\\Users\\Peter\\Desktop\\torch_git\\EEG_beee_divide_channel_weighting.ipynb 셀 4\u001b[0m in \u001b[0;36m<cell line: 27>\u001b[1;34m()\u001b[0m\n\u001b[0;32m      <a href='vscode-notebook-cell:/c%3A/Users/Peter/Desktop/torch_git/EEG_beee_divide_channel_weighting.ipynb#W3sZmlsZQ%3D%3D?line=4'>5</a>\u001b[0m parameters_dict \u001b[39m=\u001b[39m {\n\u001b[0;32m      <a href='vscode-notebook-cell:/c%3A/Users/Peter/Desktop/torch_git/EEG_beee_divide_channel_weighting.ipynb#W3sZmlsZQ%3D%3D?line=5'>6</a>\u001b[0m     \u001b[39m'\u001b[39m\u001b[39mhidden_size\u001b[39m\u001b[39m'\u001b[39m: {\n\u001b[0;32m      <a href='vscode-notebook-cell:/c%3A/Users/Peter/Desktop/torch_git/EEG_beee_divide_channel_weighting.ipynb#W3sZmlsZQ%3D%3D?line=6'>7</a>\u001b[0m         \u001b[39m'\u001b[39m\u001b[39mvalues\u001b[39m\u001b[39m'\u001b[39m: [\u001b[39m16\u001b[39m,\u001b[39m32\u001b[39m,\u001b[39m64\u001b[39m]\n\u001b[1;32m   (...)\u001b[0m\n\u001b[0;32m     <a href='vscode-notebook-cell:/c%3A/Users/Peter/Desktop/torch_git/EEG_beee_divide_channel_weighting.ipynb#W3sZmlsZQ%3D%3D?line=22'>23</a>\u001b[0m       }, \n\u001b[0;32m     <a href='vscode-notebook-cell:/c%3A/Users/Peter/Desktop/torch_git/EEG_beee_divide_channel_weighting.ipynb#W3sZmlsZQ%3D%3D?line=23'>24</a>\u001b[0m     }\n\u001b[0;32m     <a href='vscode-notebook-cell:/c%3A/Users/Peter/Desktop/torch_git/EEG_beee_divide_channel_weighting.ipynb#W3sZmlsZQ%3D%3D?line=24'>25</a>\u001b[0m sweep_config[\u001b[39m'\u001b[39m\u001b[39mparameters\u001b[39m\u001b[39m'\u001b[39m] \u001b[39m=\u001b[39m parameters_dict\n\u001b[1;32m---> <a href='vscode-notebook-cell:/c%3A/Users/Peter/Desktop/torch_git/EEG_beee_divide_channel_weighting.ipynb#W3sZmlsZQ%3D%3D?line=26'>27</a>\u001b[0m sweep_id \u001b[39m=\u001b[39m wandb\u001b[39m.\u001b[39;49msweep(sweep_config, project\u001b[39m=\u001b[39;49m\u001b[39m\"\u001b[39;49m\u001b[39mBEEE_KA_divide_CW_GC_1031_1700\u001b[39;49m\u001b[39m\"\u001b[39;49m)\n\u001b[0;32m     <a href='vscode-notebook-cell:/c%3A/Users/Peter/Desktop/torch_git/EEG_beee_divide_channel_weighting.ipynb#W3sZmlsZQ%3D%3D?line=27'>28</a>\u001b[0m config \u001b[39m=\u001b[39m wandb\u001b[39m.\u001b[39mconfig\n",
      "File \u001b[1;32mc:\\Users\\Peter\\anaconda3\\envs\\Car\\lib\\site-packages\\wandb\\sdk\\wandb_sweep.py:110\u001b[0m, in \u001b[0;36msweep\u001b[1;34m(sweep, entity, project)\u001b[0m\n\u001b[0;32m    108\u001b[0m \u001b[39m# Make sure we are logged in\u001b[39;00m\n\u001b[0;32m    109\u001b[0m \u001b[39mif\u001b[39;00m wandb\u001b[39m.\u001b[39mrun \u001b[39mis\u001b[39;00m \u001b[39mNone\u001b[39;00m:\n\u001b[1;32m--> 110\u001b[0m     wandb_login\u001b[39m.\u001b[39;49m_login(_silent\u001b[39m=\u001b[39;49m\u001b[39mTrue\u001b[39;49;00m)\n\u001b[0;32m    111\u001b[0m api \u001b[39m=\u001b[39m InternalApi()\n\u001b[0;32m    112\u001b[0m sweep_id, warnings \u001b[39m=\u001b[39m api\u001b[39m.\u001b[39mupsert_sweep(sweep)\n",
      "File \u001b[1;32mc:\\Users\\Peter\\anaconda3\\envs\\Car\\lib\\site-packages\\wandb\\sdk\\wandb_login.py:276\u001b[0m, in \u001b[0;36m_login\u001b[1;34m(anonymous, key, relogin, host, force, timeout, _backend, _silent, _disable_warning, _entity)\u001b[0m\n\u001b[0;32m    273\u001b[0m     wlogin\u001b[39m.\u001b[39mset_entity(_entity)\n\u001b[0;32m    275\u001b[0m \u001b[39m# configure login object\u001b[39;00m\n\u001b[1;32m--> 276\u001b[0m wlogin\u001b[39m.\u001b[39;49msetup(kwargs)\n\u001b[0;32m    278\u001b[0m \u001b[39mif\u001b[39;00m wlogin\u001b[39m.\u001b[39m_settings\u001b[39m.\u001b[39m_offline:\n\u001b[0;32m    279\u001b[0m     \u001b[39mreturn\u001b[39;00m \u001b[39mFalse\u001b[39;00m\n",
      "File \u001b[1;32mc:\\Users\\Peter\\anaconda3\\envs\\Car\\lib\\site-packages\\wandb\\sdk\\wandb_login.py:110\u001b[0m, in \u001b[0;36m_WandbLogin.setup\u001b[1;34m(self, kwargs)\u001b[0m\n\u001b[0;32m    108\u001b[0m     \u001b[39melif\u001b[39;00m \u001b[39misinstance\u001b[39m(settings_param, \u001b[39mdict\u001b[39m):\n\u001b[0;32m    109\u001b[0m         login_settings\u001b[39m.\u001b[39mupdate(settings_param, source\u001b[39m=\u001b[39mSource\u001b[39m.\u001b[39mLOGIN)\n\u001b[1;32m--> 110\u001b[0m _logger \u001b[39m=\u001b[39m wandb\u001b[39m.\u001b[39;49msetup()\u001b[39m.\u001b[39m_get_logger()\n\u001b[0;32m    111\u001b[0m \u001b[39m# Do not save relogin into settings as we just want to relogin once\u001b[39;00m\n\u001b[0;32m    112\u001b[0m \u001b[39mself\u001b[39m\u001b[39m.\u001b[39m_relogin \u001b[39m=\u001b[39m kwargs\u001b[39m.\u001b[39mpop(\u001b[39m\"\u001b[39m\u001b[39mrelogin\u001b[39m\u001b[39m\"\u001b[39m, \u001b[39mNone\u001b[39;00m)\n",
      "File \u001b[1;32mc:\\Users\\Peter\\anaconda3\\envs\\Car\\lib\\site-packages\\wandb\\sdk\\wandb_setup.py:320\u001b[0m, in \u001b[0;36msetup\u001b[1;34m(settings)\u001b[0m\n\u001b[0;32m    319\u001b[0m \u001b[39mdef\u001b[39;00m \u001b[39msetup\u001b[39m(settings\u001b[39m=\u001b[39m\u001b[39mNone\u001b[39;00m) \u001b[39m-\u001b[39m\u001b[39m>\u001b[39m Optional[\u001b[39m\"\u001b[39m\u001b[39m_WandbSetup\u001b[39m\u001b[39m\"\u001b[39m]:\n\u001b[1;32m--> 320\u001b[0m     ret \u001b[39m=\u001b[39m _setup(settings\u001b[39m=\u001b[39;49msettings)\n\u001b[0;32m    321\u001b[0m     \u001b[39mreturn\u001b[39;00m ret\n",
      "File \u001b[1;32mc:\\Users\\Peter\\anaconda3\\envs\\Car\\lib\\site-packages\\wandb\\sdk\\wandb_setup.py:315\u001b[0m, in \u001b[0;36m_setup\u001b[1;34m(settings, _reset)\u001b[0m\n\u001b[0;32m    313\u001b[0m     _WandbSetup\u001b[39m.\u001b[39m_instance \u001b[39m=\u001b[39m \u001b[39mNone\u001b[39;00m\n\u001b[0;32m    314\u001b[0m     \u001b[39mreturn\u001b[39;00m\n\u001b[1;32m--> 315\u001b[0m wl \u001b[39m=\u001b[39m _WandbSetup(settings\u001b[39m=\u001b[39;49msettings)\n\u001b[0;32m    316\u001b[0m \u001b[39mreturn\u001b[39;00m wl\n",
      "File \u001b[1;32mc:\\Users\\Peter\\anaconda3\\envs\\Car\\lib\\site-packages\\wandb\\sdk\\wandb_setup.py:301\u001b[0m, in \u001b[0;36m_WandbSetup.__init__\u001b[1;34m(self, settings)\u001b[0m\n\u001b[0;32m    299\u001b[0m     _WandbSetup\u001b[39m.\u001b[39m_instance\u001b[39m.\u001b[39m_update(settings\u001b[39m=\u001b[39msettings)\n\u001b[0;32m    300\u001b[0m     \u001b[39mreturn\u001b[39;00m\n\u001b[1;32m--> 301\u001b[0m _WandbSetup\u001b[39m.\u001b[39m_instance \u001b[39m=\u001b[39m _WandbSetup__WandbSetup(settings\u001b[39m=\u001b[39;49msettings, pid\u001b[39m=\u001b[39;49mpid)\n",
      "File \u001b[1;32mc:\\Users\\Peter\\anaconda3\\envs\\Car\\lib\\site-packages\\wandb\\sdk\\wandb_setup.py:114\u001b[0m, in \u001b[0;36m_WandbSetup__WandbSetup.__init__\u001b[1;34m(self, pid, settings, environ)\u001b[0m\n\u001b[0;32m    111\u001b[0m wandb\u001b[39m.\u001b[39mtermsetup(\u001b[39mself\u001b[39m\u001b[39m.\u001b[39m_settings, logger)\n\u001b[0;32m    113\u001b[0m \u001b[39mself\u001b[39m\u001b[39m.\u001b[39m_check()\n\u001b[1;32m--> 114\u001b[0m \u001b[39mself\u001b[39;49m\u001b[39m.\u001b[39;49m_setup()\n\u001b[0;32m    116\u001b[0m tracelog_mode \u001b[39m=\u001b[39m \u001b[39mself\u001b[39m\u001b[39m.\u001b[39m_settings\u001b[39m.\u001b[39m_tracelog\n\u001b[0;32m    117\u001b[0m \u001b[39mif\u001b[39;00m tracelog_mode:\n",
      "File \u001b[1;32mc:\\Users\\Peter\\anaconda3\\envs\\Car\\lib\\site-packages\\wandb\\sdk\\wandb_setup.py:242\u001b[0m, in \u001b[0;36m_WandbSetup__WandbSetup._setup\u001b[1;34m(self)\u001b[0m\n\u001b[0;32m    241\u001b[0m \u001b[39mdef\u001b[39;00m \u001b[39m_setup\u001b[39m(\u001b[39mself\u001b[39m):\n\u001b[1;32m--> 242\u001b[0m     \u001b[39mself\u001b[39;49m\u001b[39m.\u001b[39;49m_setup_manager()\n\u001b[0;32m    244\u001b[0m     sweep_path \u001b[39m=\u001b[39m \u001b[39mself\u001b[39m\u001b[39m.\u001b[39m_settings\u001b[39m.\u001b[39msweep_param_path\n\u001b[0;32m    245\u001b[0m     \u001b[39mif\u001b[39;00m sweep_path:\n",
      "File \u001b[1;32mc:\\Users\\Peter\\anaconda3\\envs\\Car\\lib\\site-packages\\wandb\\sdk\\wandb_setup.py:273\u001b[0m, in \u001b[0;36m_WandbSetup__WandbSetup._setup_manager\u001b[1;34m(self)\u001b[0m\n\u001b[0;32m    270\u001b[0m \u001b[39m# Temporary setting to allow use of grpc so that we can keep\u001b[39;00m\n\u001b[0;32m    271\u001b[0m \u001b[39m# that code from rotting during the transition\u001b[39;00m\n\u001b[0;32m    272\u001b[0m use_grpc \u001b[39m=\u001b[39m \u001b[39mself\u001b[39m\u001b[39m.\u001b[39m_settings\u001b[39m.\u001b[39m_service_transport \u001b[39m==\u001b[39m \u001b[39m\"\u001b[39m\u001b[39mgrpc\u001b[39m\u001b[39m\"\u001b[39m\n\u001b[1;32m--> 273\u001b[0m \u001b[39mself\u001b[39m\u001b[39m.\u001b[39m_manager \u001b[39m=\u001b[39m wandb_manager\u001b[39m.\u001b[39;49m_Manager(\n\u001b[0;32m    274\u001b[0m     _use_grpc\u001b[39m=\u001b[39;49muse_grpc, settings\u001b[39m=\u001b[39;49m\u001b[39mself\u001b[39;49m\u001b[39m.\u001b[39;49m_settings\n\u001b[0;32m    275\u001b[0m )\n",
      "File \u001b[1;32mc:\\Users\\Peter\\anaconda3\\envs\\Car\\lib\\site-packages\\wandb\\sdk\\wandb_manager.py:106\u001b[0m, in \u001b[0;36m_Manager.__init__\u001b[1;34m(self, settings, _use_grpc)\u001b[0m\n\u001b[0;32m    104\u001b[0m token \u001b[39m=\u001b[39m _ManagerToken\u001b[39m.\u001b[39mfrom_environment()\n\u001b[0;32m    105\u001b[0m \u001b[39mif\u001b[39;00m \u001b[39mnot\u001b[39;00m token:\n\u001b[1;32m--> 106\u001b[0m     \u001b[39mself\u001b[39;49m\u001b[39m.\u001b[39;49m_service\u001b[39m.\u001b[39;49mstart()\n\u001b[0;32m    107\u001b[0m     host \u001b[39m=\u001b[39m \u001b[39m\"\u001b[39m\u001b[39mlocalhost\u001b[39m\u001b[39m\"\u001b[39m\n\u001b[0;32m    108\u001b[0m     \u001b[39mif\u001b[39;00m _use_grpc:\n",
      "File \u001b[1;32mc:\\Users\\Peter\\anaconda3\\envs\\Car\\lib\\site-packages\\wandb\\sdk\\service\\service.py:106\u001b[0m, in \u001b[0;36m_Service.start\u001b[1;34m(self)\u001b[0m\n\u001b[0;32m    105\u001b[0m \u001b[39mdef\u001b[39;00m \u001b[39mstart\u001b[39m(\u001b[39mself\u001b[39m) \u001b[39m-\u001b[39m\u001b[39m>\u001b[39m \u001b[39mNone\u001b[39;00m:\n\u001b[1;32m--> 106\u001b[0m     \u001b[39mself\u001b[39;49m\u001b[39m.\u001b[39;49m_launch_server()\n",
      "File \u001b[1;32mc:\\Users\\Peter\\anaconda3\\envs\\Car\\lib\\site-packages\\wandb\\sdk\\service\\service.py:101\u001b[0m, in \u001b[0;36m_Service._launch_server\u001b[1;34m(self)\u001b[0m\n\u001b[0;32m     95\u001b[0m     service_args\u001b[39m.\u001b[39mappend(\u001b[39m\"\u001b[39m\u001b[39m--serve-sock\u001b[39m\u001b[39m\"\u001b[39m)\n\u001b[0;32m     96\u001b[0m internal_proc \u001b[39m=\u001b[39m subprocess\u001b[39m.\u001b[39mPopen(\n\u001b[0;32m     97\u001b[0m     exec_cmd_list \u001b[39m+\u001b[39m service_args,\n\u001b[0;32m     98\u001b[0m     env\u001b[39m=\u001b[39mos\u001b[39m.\u001b[39menviron,\n\u001b[0;32m     99\u001b[0m     \u001b[39m*\u001b[39m\u001b[39m*\u001b[39mkwargs,\n\u001b[0;32m    100\u001b[0m )\n\u001b[1;32m--> 101\u001b[0m ports_found \u001b[39m=\u001b[39m \u001b[39mself\u001b[39;49m\u001b[39m.\u001b[39;49m_wait_for_ports(fname, proc\u001b[39m=\u001b[39;49minternal_proc)\n\u001b[0;32m    102\u001b[0m \u001b[39massert\u001b[39;00m ports_found\n\u001b[0;32m    103\u001b[0m \u001b[39mself\u001b[39m\u001b[39m.\u001b[39m_internal_proc \u001b[39m=\u001b[39m internal_proc\n",
      "File \u001b[1;32mc:\\Users\\Peter\\anaconda3\\envs\\Car\\lib\\site-packages\\wandb\\sdk\\service\\service.py:48\u001b[0m, in \u001b[0;36m_Service._wait_for_ports\u001b[1;34m(self, fname, proc)\u001b[0m\n\u001b[0;32m     46\u001b[0m     \u001b[39mreturn\u001b[39;00m \u001b[39mFalse\u001b[39;00m\n\u001b[0;32m     47\u001b[0m \u001b[39mif\u001b[39;00m \u001b[39mnot\u001b[39;00m os\u001b[39m.\u001b[39mpath\u001b[39m.\u001b[39misfile(fname):\n\u001b[1;32m---> 48\u001b[0m     time\u001b[39m.\u001b[39;49msleep(\u001b[39m0.2\u001b[39;49m)\n\u001b[0;32m     49\u001b[0m     \u001b[39mcontinue\u001b[39;00m\n\u001b[0;32m     50\u001b[0m \u001b[39mtry\u001b[39;00m:\n",
      "\u001b[1;31mKeyboardInterrupt\u001b[0m: "
     ]
    }
   ],
   "source": [
    "sweep_config = {\n",
    "    'method': 'grid'\n",
    "    }\n",
    "\n",
    "parameters_dict = {\n",
    "    'hidden_size': {\n",
    "        'values': [16,32,64]\n",
    "        },\n",
    "    'batch_size': {\n",
    "        'values': [128]\n",
    "        },\n",
    "    'optimizer': {\n",
    "        'values': ['adam']\n",
    "        },\n",
    "    'epochs': {\n",
    "        'values': [400]\n",
    "        },\n",
    "    'learning_rate': {\n",
    "        'values': [0.001,0.01]\n",
    "      }, \n",
    "    'chop': {\n",
    "        'values': [32,64,128]\n",
    "      }, \n",
    "    }\n",
    "sweep_config['parameters'] = parameters_dict\n",
    "\n",
    "sweep_id = wandb.sweep(sweep_config, project=\"BEEE_KA_divide_CW_GC_1031_1700\")\n",
    "config = wandb.config"
   ]
  },
  {
   "cell_type": "code",
   "execution_count": null,
   "metadata": {},
   "outputs": [],
   "source": [
    "def load_mat_file(chop, option):\n",
    "    # mat_file = io.loadmat('/Users/goldenyoo/Library/Mobile Documents/com~apple~CloudDocs/BioCAS_prepare/Python_code/Data_center/one_dx/Calib_data_'+ str(num_subject) +'.mat')\n",
    "    # mat_file = io.loadmat('C:/Users/Peter/iCloudDrive/BioCAS_prepare/BCIIV_2a_mat/myData/Raw/Calib_data_'+ str(num_subject) +'_chop_'+str(chop) +'.mat')\n",
    "    \n",
    "    if option == 1:\n",
    "        file_name = f'C:/Users/Peter/Desktop/CGX/data/After_bpf_notch/GC_KA_{chop}_data_1.mat'\n",
    "    elif option == 2:\n",
    "        file_name = f'C:/Users/Peter/Desktop/CGX/data/After_bpf_notch/GC_KA_{chop}_data_2.mat'\n",
    "\n",
    "    mat_file = io.loadmat(file_name)\n",
    "\n",
    "    K1 = mat_file['K1']\n",
    "    K2 = mat_file['K2']\n",
    "\n",
    "    A1 = mat_file['A1']\n",
    "    A2 = mat_file['A2']\n",
    "    \n",
    "    Y1 = mat_file['Y1']\n",
    "    Y2 = mat_file['Y2']\n",
    "\n",
    "    # K 특성에 대한 Class1 vs Class2 Data 가져오기\n",
    "    k1 = torch.FloatTensor(K1)\n",
    "    k2 = torch.FloatTensor(K2)\n",
    "    a1 = torch.FloatTensor(A1)\n",
    "    a2 = torch.FloatTensor(A2)\n",
    "\n",
    "\n",
    "    # Y에 대한 Class1 vs Class2 Data 가져오기\n",
    "    y1 = torch.LongTensor(Y1)\n",
    "    y2 = torch.LongTensor(Y2)\n",
    "\n",
    "    k_train = torch.cat([k1,k2],dim=0)\n",
    "    a_train = torch.cat([a1,a2],dim=0)\n",
    "\n",
    "    y_train = torch.cat([y1,y2],dim=0)\n",
    "    y_train = y_train-1 # y를 0~1의 정수로 만들어야함.\n",
    "\n",
    "\n",
    "\n",
    "    return k_train.to(device), a_train.to(device), y_train.to(device)"
   ]
  },
  {
   "cell_type": "code",
   "execution_count": null,
   "metadata": {},
   "outputs": [],
   "source": [
    "def build_dataset(batch_size, k_train, a_train, y_train, k_test, a_test, y_test):\n",
    "    dataset_train = TensorDataset(k_train, a_train, y_train) # 각 tensor의 첫번째 dim이 일치해야한다\n",
    "    dataset_test = TensorDataset(k_test, a_test, y_test) # 각 tensor의 첫번째 dim이 일치해야한다\n",
    "\n",
    "    # Data Split\n",
    "    dataset_size = len(dataset_train)\n",
    "    train_size = int(dataset_size * 0.8)\n",
    "    valid_size = dataset_size - train_size\n",
    "\n",
    "    train_dataset, valid_dataset = random_split(dataset_train, [train_size, valid_size])\n",
    "\n",
    "    train_DL = DataLoader(train_dataset, batch_size= batch_size, shuffle=True, drop_last=True)\n",
    "    valid_DL = DataLoader(valid_dataset, batch_size= valid_size, shuffle=False)\n",
    "\n",
    "    test_DL = DataLoader(dataset_test, batch_size = batch_size )\n",
    "\n",
    "\n",
    "    return train_DL, valid_DL, test_DL"
   ]
  },
  {
   "cell_type": "code",
   "execution_count": null,
   "metadata": {},
   "outputs": [],
   "source": [
    "def build_optimizer(network, optimizer, learning_rate):\n",
    "    if optimizer == \"sgd\":\n",
    "        optimizer = optim.SGD(network.parameters(),\n",
    "                              lr=learning_rate, momentum=0.9)\n",
    "    elif optimizer == \"adam\":\n",
    "        optimizer = optim.Adam(network.parameters(),\n",
    "                               lr=learning_rate)\n",
    "    return optimizer"
   ]
  },
  {
   "cell_type": "code",
   "execution_count": null,
   "metadata": {},
   "outputs": [],
   "source": [
    "input_size = 19\n",
    "channel_weighting = 6\n",
    "n_class = 2\n",
    "\n",
    "dtype = torch.float\n",
    "\n",
    "class TextLSTM(nn.Module):\n",
    "  def __init__(self,hidden_size):\n",
    "    super(TextLSTM, self).__init__()\n",
    "\n",
    "    self.fc_0_k = nn.Linear(input_size, channel_weighting)\n",
    "    self.fc_0_a = nn.Linear(input_size, channel_weighting)\n",
    "    self.lstm_1 = nn.LSTM(input_size=channel_weighting, hidden_size=hidden_size)\n",
    "    self.lstm_2 = nn.LSTM(input_size=channel_weighting, hidden_size=hidden_size)\n",
    "    self.fc_1 = nn.Linear(hidden_size*2, hidden_size*2)\n",
    "    self.fc_2 = nn.Linear(hidden_size*2, n_class)\n",
    "\n",
    "  def forward(self, K_and_A):\n",
    "    (k, a) = K_and_A\n",
    "\n",
    "    k.transpose_(0,1)\n",
    "    k.transpose_(0,2)\n",
    "    a.transpose_(0,1)\n",
    "    a.transpose_(0,2)\n",
    "\n",
    "    # Channel weighting\n",
    "    tmp_k = self.fc_0_k(k)\n",
    "    tmp_a = self.fc_0_a(a)\n",
    "\n",
    "    # LSTM\n",
    "    outputs1, (h_n1,c_n1) = self.lstm_1(F.relu(tmp_k))\n",
    "    outputs2, (h_n2,c_n2) = self.lstm_2(F.relu(tmp_a))\n",
    "\n",
    "    # Concat\n",
    "    outputs = torch.cat((outputs1[-1],outputs2[-1]), dim=1)  \n",
    "\n",
    "    # FC \n",
    "    x = self.fc_1(outputs)  # 최종 예측 최종 출력 층\n",
    "    model = self.fc_2(F.relu(x))\n",
    "\n",
    "    return model.to(device)\n"
   ]
  },
  {
   "cell_type": "code",
   "execution_count": null,
   "metadata": {},
   "outputs": [],
   "source": [
    "def train(config=None):\n",
    "    # Initialize a new wandb run\n",
    "    with wandb.init(config=config):\n",
    "        config = wandb.config\n",
    "\n",
    "        k_train, a_train, y_train = load_mat_file(config.chop, 1)\n",
    "        k_test, a_test, y_test = load_mat_file(config.chop, 2)\n",
    "\n",
    "        model = TextLSTM(hidden_size=config.hidden_size).to(device)\n",
    "        criterion = nn.CrossEntropyLoss()\n",
    "        optimizer = build_optimizer(model, config.optimizer, config.learning_rate)\n",
    "        scheduler = optim.lr_scheduler.LambdaLR(optimizer=optimizer,\n",
    "                                        lr_lambda=lambda epoch: 0.95 ** epoch,\n",
    "                                        last_epoch=-1,\n",
    "                                        verbose=False)\n",
    "\n",
    "        \n",
    "        \n",
    "        train_DL, valid_DL, test_DL = build_dataset(config.batch_size, k_train.to(device), a_train.to(device), y_train.to(device),k_test.to(device), a_test.to(device), y_test.to(device))\n",
    "\n",
    "        for epoch in range(config.epochs):\n",
    "            rloss = 0\n",
    "            model.train()\n",
    "            for batch_idx, samples in enumerate(train_DL):\n",
    "\n",
    "                k_train_mb, a_train_mb, y_train_mb = samples\n",
    "\n",
    "                # Forward\n",
    "                output = model((k_train_mb.to(device),a_train_mb.to(device)))\n",
    "\n",
    "                # Cost\n",
    "                loss = criterion(output.to(device), y_train_mb.squeeze().to(device))\n",
    "\n",
    "                # Backpropagate\n",
    "                optimizer.zero_grad()\n",
    "                loss.backward()\n",
    "                optimizer.step()\n",
    "\n",
    "                loss_b = loss.item()*config.batch_size\n",
    "                rloss += float(loss_b)\n",
    "            # For each epoch end\n",
    "            model.eval()\n",
    "            with torch.no_grad():\n",
    "                # epoch loss \n",
    "                loss_e = rloss/len(train_DL.dataset) \n",
    "                \n",
    "                # Validation\n",
    "                k_valid, a_valid, y_valid = next(iter(valid_DL))\n",
    "\n",
    "                output = model((k_valid.to(device),a_valid.to(device)))\n",
    "                prediction = output.argmax(dim=1)\n",
    "                correct = prediction.eq(y_valid.view_as(prediction)).sum().item()\n",
    "\n",
    "                # Wandb log\n",
    "                wandb.log({\"loss\": loss_e})\n",
    "                wandb.log({\"Validation accuracy\": correct/len(valid_DL.dataset)})\n",
    "\n",
    "                if epoch % 100 == 0:\n",
    "                    print(f\"Epoch: {epoch}, train loss: {round(loss_e,3)}\")\n",
    "                    print(f\"Validation accuracy: {round(correct/len(valid_DL.dataset),3)}\")\n",
    "\n",
    "\n",
    "\n",
    "            scheduler.step()\n",
    "        \n",
    "        model.eval()\n",
    "        with torch.no_grad():\n",
    "            t_correct = 0\n",
    "            for batch_idx, samples in enumerate(test_DL):\n",
    "                k_train_mb, a_train_mb, y_train_mb = samples\n",
    "\n",
    "                output = model( (k_train_mb.to(device),a_train_mb.to(device)))\n",
    "                prediction = output.argmax(dim=1)\n",
    "                correct = prediction.eq(y_train_mb.view_as(prediction)).sum().item()\n",
    "                t_correct += correct\n",
    "                # cohenkappa = CohenKappa(num_classes=2).to(device)\n",
    "                # peter_kappa = cohenkappa(prediction, y_train_mb.view_as(prediction))\n",
    "                # wandb.log({\"Kappa\": peter_kappa.item()})\n",
    "            print(f\"Evaluation accuracy: {round(t_correct/len(test_DL.dataset),3)}\")\n",
    "            wandb.log({\"Evaluation accuracy\": t_correct/len(test_DL.dataset)})\n",
    "        torch.cuda.empty_cache()\n",
    "        gc.collect()\n",
    "                "
   ]
  },
  {
   "cell_type": "code",
   "execution_count": null,
   "metadata": {},
   "outputs": [
    {
     "name": "stdout",
     "output_type": "stream",
     "text": [
      "Epoch: 100, train loss: 0.0\n",
      "Validation accuracy: 1.0\n"
     ]
    }
   ],
   "source": [
    "wandb.agent(sweep_id, train)"
   ]
  },
  {
   "cell_type": "code",
   "execution_count": null,
   "metadata": {},
   "outputs": [],
   "source": [
    "wandb.finish()"
   ]
  }
 ],
 "metadata": {
  "kernelspec": {
   "display_name": "Python 3.8.13 ('Car')",
   "language": "python",
   "name": "python3"
  },
  "language_info": {
   "codemirror_mode": {
    "name": "ipython",
    "version": 3
   },
   "file_extension": ".py",
   "mimetype": "text/x-python",
   "name": "python",
   "nbconvert_exporter": "python",
   "pygments_lexer": "ipython3",
   "version": "3.8.13"
  },
  "orig_nbformat": 4,
  "vscode": {
   "interpreter": {
    "hash": "3299b8f52885fadf7695044421d8db9b9b3474af12aaae4218ce23d61e72ab48"
   }
  }
 },
 "nbformat": 4,
 "nbformat_minor": 2
}
