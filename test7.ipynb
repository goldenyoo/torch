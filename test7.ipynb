{
 "cells": [
  {
   "cell_type": "markdown",
   "metadata": {},
   "source": [
    "# 로지스틱 회귀"
   ]
  },
  {
   "cell_type": "code",
   "execution_count": 1,
   "metadata": {},
   "outputs": [],
   "source": [
    "import torch\n",
    "import torch.nn as nn\n",
    "import torch.nn.functional as F\n",
    "import torch.optim as optim"
   ]
  },
  {
   "cell_type": "code",
   "execution_count": 2,
   "metadata": {},
   "outputs": [],
   "source": [
    "x_data = [[1, 2], [2, 3], [3, 1], [4, 3], [5, 3], [6, 2]]\n",
    "y_data = [[0], [0], [0], [1], [1], [1]]\n",
    "x_train = torch.FloatTensor(x_data)\n",
    "y_train = torch.FloatTensor(y_data)"
   ]
  },
  {
   "cell_type": "code",
   "execution_count": 3,
   "metadata": {},
   "outputs": [],
   "source": [
    "model = nn.Sequential(\n",
    "   nn.Linear(2, 1), # input_dim = 2, output_dim = 1\n",
    "   nn.Sigmoid() # 출력은 시그모이드 함수를 거친다\n",
    ")"
   ]
  },
  {
   "cell_type": "code",
   "execution_count": 4,
   "metadata": {},
   "outputs": [
    {
     "name": "stdout",
     "output_type": "stream",
     "text": [
      "Epoch    0/1000 Cost: 0.831655 Accuracy 50.00%\n",
      "Epoch   10/1000 Cost: 0.616104 Accuracy 50.00%\n",
      "Epoch   20/1000 Cost: 0.481277 Accuracy 66.67%\n",
      "Epoch   30/1000 Cost: 0.407213 Accuracy 83.33%\n",
      "Epoch   40/1000 Cost: 0.345687 Accuracy 83.33%\n",
      "Epoch   50/1000 Cost: 0.292352 Accuracy 83.33%\n",
      "Epoch   60/1000 Cost: 0.244294 Accuracy 100.00%\n",
      "Epoch   70/1000 Cost: 0.201366 Accuracy 100.00%\n",
      "Epoch   80/1000 Cost: 0.168622 Accuracy 100.00%\n",
      "Epoch   90/1000 Cost: 0.150343 Accuracy 100.00%\n",
      "Epoch  100/1000 Cost: 0.139327 Accuracy 100.00%\n",
      "Epoch  110/1000 Cost: 0.130176 Accuracy 100.00%\n",
      "Epoch  120/1000 Cost: 0.122178 Accuracy 100.00%\n",
      "Epoch  130/1000 Cost: 0.115123 Accuracy 100.00%\n",
      "Epoch  140/1000 Cost: 0.108854 Accuracy 100.00%\n",
      "Epoch  150/1000 Cost: 0.103247 Accuracy 100.00%\n",
      "Epoch  160/1000 Cost: 0.098201 Accuracy 100.00%\n",
      "Epoch  170/1000 Cost: 0.093637 Accuracy 100.00%\n",
      "Epoch  180/1000 Cost: 0.089488 Accuracy 100.00%\n",
      "Epoch  190/1000 Cost: 0.085700 Accuracy 100.00%\n",
      "Epoch  200/1000 Cost: 0.082227 Accuracy 100.00%\n",
      "Epoch  210/1000 Cost: 0.079032 Accuracy 100.00%\n",
      "Epoch  220/1000 Cost: 0.076082 Accuracy 100.00%\n",
      "Epoch  230/1000 Cost: 0.073350 Accuracy 100.00%\n",
      "Epoch  240/1000 Cost: 0.070812 Accuracy 100.00%\n",
      "Epoch  250/1000 Cost: 0.068448 Accuracy 100.00%\n",
      "Epoch  260/1000 Cost: 0.066240 Accuracy 100.00%\n",
      "Epoch  270/1000 Cost: 0.064174 Accuracy 100.00%\n",
      "Epoch  280/1000 Cost: 0.062236 Accuracy 100.00%\n",
      "Epoch  290/1000 Cost: 0.060414 Accuracy 100.00%\n",
      "Epoch  300/1000 Cost: 0.058698 Accuracy 100.00%\n",
      "Epoch  310/1000 Cost: 0.057079 Accuracy 100.00%\n",
      "Epoch  320/1000 Cost: 0.055549 Accuracy 100.00%\n",
      "Epoch  330/1000 Cost: 0.054101 Accuracy 100.00%\n",
      "Epoch  340/1000 Cost: 0.052727 Accuracy 100.00%\n",
      "Epoch  350/1000 Cost: 0.051424 Accuracy 100.00%\n",
      "Epoch  360/1000 Cost: 0.050184 Accuracy 100.00%\n",
      "Epoch  370/1000 Cost: 0.049004 Accuracy 100.00%\n",
      "Epoch  380/1000 Cost: 0.047880 Accuracy 100.00%\n",
      "Epoch  390/1000 Cost: 0.046806 Accuracy 100.00%\n",
      "Epoch  400/1000 Cost: 0.045781 Accuracy 100.00%\n",
      "Epoch  410/1000 Cost: 0.044801 Accuracy 100.00%\n",
      "Epoch  420/1000 Cost: 0.043862 Accuracy 100.00%\n",
      "Epoch  430/1000 Cost: 0.042963 Accuracy 100.00%\n",
      "Epoch  440/1000 Cost: 0.042100 Accuracy 100.00%\n",
      "Epoch  450/1000 Cost: 0.041272 Accuracy 100.00%\n",
      "Epoch  460/1000 Cost: 0.040477 Accuracy 100.00%\n",
      "Epoch  470/1000 Cost: 0.039712 Accuracy 100.00%\n",
      "Epoch  480/1000 Cost: 0.038976 Accuracy 100.00%\n",
      "Epoch  490/1000 Cost: 0.038267 Accuracy 100.00%\n",
      "Epoch  500/1000 Cost: 0.037584 Accuracy 100.00%\n",
      "Epoch  510/1000 Cost: 0.036925 Accuracy 100.00%\n",
      "Epoch  520/1000 Cost: 0.036289 Accuracy 100.00%\n",
      "Epoch  530/1000 Cost: 0.035675 Accuracy 100.00%\n",
      "Epoch  540/1000 Cost: 0.035082 Accuracy 100.00%\n",
      "Epoch  550/1000 Cost: 0.034509 Accuracy 100.00%\n",
      "Epoch  560/1000 Cost: 0.033954 Accuracy 100.00%\n",
      "Epoch  570/1000 Cost: 0.033417 Accuracy 100.00%\n",
      "Epoch  580/1000 Cost: 0.032897 Accuracy 100.00%\n",
      "Epoch  590/1000 Cost: 0.032393 Accuracy 100.00%\n",
      "Epoch  600/1000 Cost: 0.031904 Accuracy 100.00%\n",
      "Epoch  610/1000 Cost: 0.031431 Accuracy 100.00%\n",
      "Epoch  620/1000 Cost: 0.030971 Accuracy 100.00%\n",
      "Epoch  630/1000 Cost: 0.030524 Accuracy 100.00%\n",
      "Epoch  640/1000 Cost: 0.030091 Accuracy 100.00%\n",
      "Epoch  650/1000 Cost: 0.029670 Accuracy 100.00%\n",
      "Epoch  660/1000 Cost: 0.029260 Accuracy 100.00%\n",
      "Epoch  670/1000 Cost: 0.028862 Accuracy 100.00%\n",
      "Epoch  680/1000 Cost: 0.028475 Accuracy 100.00%\n",
      "Epoch  690/1000 Cost: 0.028098 Accuracy 100.00%\n",
      "Epoch  700/1000 Cost: 0.027731 Accuracy 100.00%\n",
      "Epoch  710/1000 Cost: 0.027373 Accuracy 100.00%\n",
      "Epoch  720/1000 Cost: 0.027025 Accuracy 100.00%\n",
      "Epoch  730/1000 Cost: 0.026686 Accuracy 100.00%\n",
      "Epoch  740/1000 Cost: 0.026355 Accuracy 100.00%\n",
      "Epoch  750/1000 Cost: 0.026032 Accuracy 100.00%\n",
      "Epoch  760/1000 Cost: 0.025717 Accuracy 100.00%\n",
      "Epoch  770/1000 Cost: 0.025410 Accuracy 100.00%\n",
      "Epoch  780/1000 Cost: 0.025110 Accuracy 100.00%\n",
      "Epoch  790/1000 Cost: 0.024817 Accuracy 100.00%\n",
      "Epoch  800/1000 Cost: 0.024531 Accuracy 100.00%\n",
      "Epoch  810/1000 Cost: 0.024251 Accuracy 100.00%\n",
      "Epoch  820/1000 Cost: 0.023978 Accuracy 100.00%\n",
      "Epoch  830/1000 Cost: 0.023711 Accuracy 100.00%\n",
      "Epoch  840/1000 Cost: 0.023450 Accuracy 100.00%\n",
      "Epoch  850/1000 Cost: 0.023195 Accuracy 100.00%\n",
      "Epoch  860/1000 Cost: 0.022945 Accuracy 100.00%\n",
      "Epoch  870/1000 Cost: 0.022701 Accuracy 100.00%\n",
      "Epoch  880/1000 Cost: 0.022461 Accuracy 100.00%\n",
      "Epoch  890/1000 Cost: 0.022227 Accuracy 100.00%\n",
      "Epoch  900/1000 Cost: 0.021998 Accuracy 100.00%\n",
      "Epoch  910/1000 Cost: 0.021773 Accuracy 100.00%\n",
      "Epoch  920/1000 Cost: 0.021553 Accuracy 100.00%\n",
      "Epoch  930/1000 Cost: 0.021338 Accuracy 100.00%\n",
      "Epoch  940/1000 Cost: 0.021126 Accuracy 100.00%\n",
      "Epoch  950/1000 Cost: 0.020919 Accuracy 100.00%\n",
      "Epoch  960/1000 Cost: 0.020716 Accuracy 100.00%\n",
      "Epoch  970/1000 Cost: 0.020517 Accuracy 100.00%\n",
      "Epoch  980/1000 Cost: 0.020322 Accuracy 100.00%\n",
      "Epoch  990/1000 Cost: 0.020130 Accuracy 100.00%\n",
      "Epoch 1000/1000 Cost: 0.019942 Accuracy 100.00%\n"
     ]
    }
   ],
   "source": [
    "# optimizer 설정\n",
    "optimizer = optim.SGD(model.parameters(), lr=1)\n",
    "\n",
    "nb_epochs = 1000\n",
    "for epoch in range(nb_epochs + 1):\n",
    "\n",
    "    # H(x) 계산\n",
    "    hypothesis = model(x_train)\n",
    "\n",
    "    # cost 계산\n",
    "    cost = F.binary_cross_entropy(hypothesis, y_train)\n",
    "\n",
    "    # cost로 H(x) 개선\n",
    "    optimizer.zero_grad()\n",
    "    cost.backward()\n",
    "    optimizer.step()\n",
    "\n",
    "    # 20번마다 로그 출력\n",
    "    if epoch % 10 == 0:\n",
    "        prediction = hypothesis >= torch.FloatTensor([0.5]) # 예측값이 0.5를 넘으면 True로 간주\n",
    "        correct_prediction = prediction.float() == y_train # 실제값과 일치하는 경우만 True로 간주\n",
    "        accuracy = correct_prediction.sum().item() / len(correct_prediction) # 정확도를 계산\n",
    "        print('Epoch {:4d}/{} Cost: {:.6f} Accuracy {:2.2f}%'.format( # 각 에포크마다 정확도를 출력\n",
    "            epoch, nb_epochs, cost.item(), accuracy * 100,\n",
    "        ))"
   ]
  }
 ],
 "metadata": {
  "kernelspec": {
   "display_name": "Python 3.8.13 ('mac_cpu')",
   "language": "python",
   "name": "python3"
  },
  "language_info": {
   "codemirror_mode": {
    "name": "ipython",
    "version": 3
   },
   "file_extension": ".py",
   "mimetype": "text/x-python",
   "name": "python",
   "nbconvert_exporter": "python",
   "pygments_lexer": "ipython3",
   "version": "3.8.13"
  },
  "orig_nbformat": 4,
  "vscode": {
   "interpreter": {
    "hash": "a25b673604e404bbe71cb44188daddb26f9dca9dc7a0ddb839fa50ca7e9deea0"
   }
  }
 },
 "nbformat": 4,
 "nbformat_minor": 2
}
