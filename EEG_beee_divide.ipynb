{
 "cells": [
  {
   "cell_type": "markdown",
   "metadata": {},
   "source": [
    "# 2022/09/08"
   ]
  },
  {
   "cell_type": "code",
   "execution_count": 2,
   "metadata": {},
   "outputs": [],
   "source": [
    "import numpy as np\n",
    "import torch\n",
    "import torch.nn as nn\n",
    "import torch.optim as optim\n",
    "import torch.nn.utils.prune as prune\n",
    "import torch.nn.functional as F\n",
    "\n",
    "from torch.utils.data import TensorDataset\n",
    "from torch.utils.data import DataLoader\n",
    "from torch.utils.data import random_split\n",
    "from torchmetrics import CohenKappa\n",
    "\n",
    "from scipy import io\n",
    "import os\n",
    "import wandb"
   ]
  },
  {
   "cell_type": "code",
   "execution_count": 3,
   "metadata": {},
   "outputs": [
    {
     "name": "stdout",
     "output_type": "stream",
     "text": [
      "cuda\n"
     ]
    }
   ],
   "source": [
    "device = torch.device(\"cuda\" if torch.cuda.is_available() else \"cpu\")\n",
    "print(device)"
   ]
  },
  {
   "cell_type": "code",
   "execution_count": 4,
   "metadata": {},
   "outputs": [
    {
     "name": "stderr",
     "output_type": "stream",
     "text": [
      "Failed to detect the name of this notebook, you can set it manually with the WANDB_NOTEBOOK_NAME environment variable to enable code saving.\n"
     ]
    },
    {
     "name": "stdout",
     "output_type": "stream",
     "text": [
      "Create sweep with ID: gx3rk3qm\n",
      "Sweep URL: https://wandb.ai/goldenyoo/BEEE_KA_twosec_divide_DY_1007_1016/sweeps/gx3rk3qm\n"
     ]
    }
   ],
   "source": [
    "sweep_config = {\n",
    "    'method': 'grid'\n",
    "    }\n",
    "\n",
    "parameters_dict = {\n",
    "    'hidden_size': {\n",
    "        'values': [16,32,64]\n",
    "        },\n",
    "    'batch_size': {\n",
    "        'values': [128]\n",
    "        },\n",
    "    'optimizer': {\n",
    "        'values': ['adam']\n",
    "        },\n",
    "    'epochs': {\n",
    "        'values': [400]\n",
    "        },\n",
    "    'learning_rate': {\n",
    "        'values': [0.001,0.01]\n",
    "      }, \n",
    "    'chop': {\n",
    "        'values': [32,64,128]\n",
    "      }, \n",
    "    }\n",
    "sweep_config['parameters'] = parameters_dict\n",
    "\n",
    "sweep_id = wandb.sweep(sweep_config, project=\"BEEE_KA_twosec_divide_DY_1007_1016\")\n",
    "config = wandb.config"
   ]
  },
  {
   "cell_type": "code",
   "execution_count": 5,
   "metadata": {},
   "outputs": [],
   "source": [
    "def load_mat_file(chop, option):\n",
    "    # mat_file = io.loadmat('/Users/goldenyoo/Library/Mobile Documents/com~apple~CloudDocs/BioCAS_prepare/Python_code/Data_center/one_dx/Calib_data_'+ str(num_subject) +'.mat')\n",
    "    # mat_file = io.loadmat('C:/Users/Peter/iCloudDrive/BioCAS_prepare/BCIIV_2a_mat/myData/Raw/Calib_data_'+ str(num_subject) +'_chop_'+str(chop) +'.mat')\n",
    "    \n",
    "    if option == 1:\n",
    "        file_name = f'C:/Users/Peter/Desktop/CGX/data/tmp/DY_KA_{chop}_twosec_data_1.mat'\n",
    "    elif option == 2:\n",
    "        file_name = f'C:/Users/Peter/Desktop/CGX/data/tmp/DY_KA_{chop}_twosec_data_2.mat'\n",
    "\n",
    "    mat_file = io.loadmat(file_name)\n",
    "\n",
    "    K1 = mat_file['K1']\n",
    "    K2 = mat_file['K2']\n",
    "\n",
    "    A1 = mat_file['A1']\n",
    "    A2 = mat_file['A2']\n",
    "    \n",
    "    Y1 = mat_file['Y1']\n",
    "    Y2 = mat_file['Y2']\n",
    "\n",
    "    # K 특성에 대한 Class1 vs Class2 Data 가져오기\n",
    "    k1 = torch.FloatTensor(K1)\n",
    "    k2 = torch.FloatTensor(K2)\n",
    "    a1 = torch.FloatTensor(A1)\n",
    "    a2 = torch.FloatTensor(A2)\n",
    "\n",
    "\n",
    "    # Y에 대한 Class1 vs Class2 Data 가져오기\n",
    "    y1 = torch.LongTensor(Y1)\n",
    "    y2 = torch.LongTensor(Y2)\n",
    "\n",
    "    k_train = torch.cat([k1,k2],dim=0)\n",
    "    a_train = torch.cat([a1,a2],dim=0)\n",
    "\n",
    "    y_train = torch.cat([y1,y2],dim=0)\n",
    "    y_train = y_train-1 # y를 0~1의 정수로 만들어야함.\n",
    "\n",
    "\n",
    "\n",
    "    return k_train.to(device), a_train.to(device), y_train.to(device)"
   ]
  },
  {
   "cell_type": "code",
   "execution_count": 6,
   "metadata": {},
   "outputs": [],
   "source": [
    "def build_dataset(batch_size, k_train, a_train, y_train, k_test, a_test, y_test):\n",
    "    dataset_train = TensorDataset(k_train, a_train, y_train) # 각 tensor의 첫번째 dim이 일치해야한다\n",
    "    dataset_test = TensorDataset(k_test, a_test, y_test) # 각 tensor의 첫번째 dim이 일치해야한다\n",
    "\n",
    "    # Data Split\n",
    "    dataset_size = len(dataset_train)\n",
    "    train_size = int(dataset_size * 0.8)\n",
    "    valid_size = dataset_size - train_size\n",
    "\n",
    "    train_dataset, valid_dataset = random_split(dataset_train, [train_size, valid_size])\n",
    "\n",
    "    train_DL = DataLoader(train_dataset, batch_size= batch_size, shuffle=True, drop_last=True)\n",
    "    valid_DL = DataLoader(valid_dataset, batch_size= valid_size, shuffle=False)\n",
    "\n",
    "    test_DL = DataLoader(dataset_test, batch_size = batch_size )\n",
    "\n",
    "\n",
    "    return train_DL, valid_DL, test_DL"
   ]
  },
  {
   "cell_type": "code",
   "execution_count": 7,
   "metadata": {},
   "outputs": [],
   "source": [
    "def build_optimizer(network, optimizer, learning_rate):\n",
    "    if optimizer == \"sgd\":\n",
    "        optimizer = optim.SGD(network.parameters(),\n",
    "                              lr=learning_rate, momentum=0.9)\n",
    "    elif optimizer == \"adam\":\n",
    "        optimizer = optim.Adam(network.parameters(),\n",
    "                               lr=learning_rate)\n",
    "    return optimizer"
   ]
  },
  {
   "cell_type": "code",
   "execution_count": 8,
   "metadata": {},
   "outputs": [],
   "source": [
    "input_size = 19\n",
    "n_class = 2\n",
    "\n",
    "dtype = torch.float\n",
    "\n",
    "class TextLSTM(nn.Module):\n",
    "  def __init__(self,hidden_size):\n",
    "    super(TextLSTM, self).__init__()\n",
    "\n",
    "    self.lstm_1 = nn.LSTM(input_size=input_size, hidden_size=hidden_size)\n",
    "    self.lstm_2 = nn.LSTM(input_size=input_size, hidden_size=hidden_size)\n",
    "    self.fc_1 = nn.Linear(hidden_size*2, hidden_size*2)\n",
    "    self.fc_2 = nn.Linear(hidden_size*2, n_class)\n",
    "\n",
    "  def forward(self,  K_and_A):\n",
    "    (k, a) = K_and_A\n",
    "\n",
    "    k.transpose_(0,1)\n",
    "    k.transpose_(0,2)\n",
    "    a.transpose_(0,1)\n",
    "    a.transpose_(0,2)\n",
    "\n",
    "    outputs1, (h_n1,c_n1) = self.lstm_1(k)\n",
    "    outputs2, (h_n2,c_n2) = self.lstm_2(a)\n",
    "\n",
    "    outputs = torch.cat((outputs1[-1],outputs2[-1]), dim=1)  \n",
    "\n",
    "    x = self.fc_1(outputs)  # 최종 예측 최종 출력 층\n",
    "    model = self.fc_2(F.relu(x))\n",
    "    return model.to(device)\n"
   ]
  },
  {
   "cell_type": "code",
   "execution_count": 9,
   "metadata": {},
   "outputs": [],
   "source": [
    "def train(config=None):\n",
    "    # Initialize a new wandb run\n",
    "    with wandb.init(config=config):\n",
    "        config = wandb.config\n",
    "\n",
    "        k_train, a_train, y_train = load_mat_file(config.chop, 1)\n",
    "        k_test, a_test, y_test = load_mat_file(config.chop, 2)\n",
    "\n",
    "        model = TextLSTM(hidden_size=config.hidden_size).to(device)\n",
    "        criterion = nn.CrossEntropyLoss()\n",
    "        optimizer = build_optimizer(model, config.optimizer, config.learning_rate)\n",
    "        scheduler = optim.lr_scheduler.LambdaLR(optimizer=optimizer,\n",
    "                                        lr_lambda=lambda epoch: 0.95 ** epoch,\n",
    "                                        last_epoch=-1,\n",
    "                                        verbose=False)\n",
    "\n",
    "        \n",
    "        \n",
    "        train_DL, valid_DL, test_DL = build_dataset(config.batch_size, k_train.to(device), a_train.to(device), y_train.to(device),k_test.to(device), a_test.to(device), y_test.to(device))\n",
    "\n",
    "        for epoch in range(config.epochs):\n",
    "            rloss = 0\n",
    "            model.train()\n",
    "            for batch_idx, samples in enumerate(train_DL):\n",
    "\n",
    "                k_train_mb, a_train_mb, y_train_mb = samples\n",
    "\n",
    "                # Forward\n",
    "                output = model((k_train_mb.to(device),a_train_mb.to(device)))\n",
    "\n",
    "                # Cost\n",
    "                loss = criterion(output.to(device), y_train_mb.squeeze().to(device))\n",
    "\n",
    "                # Backpropagate\n",
    "                optimizer.zero_grad()\n",
    "                loss.backward()\n",
    "                optimizer.step()\n",
    "\n",
    "                loss_b = loss.item()*config.batch_size\n",
    "                rloss += float(loss_b)\n",
    "            # For each epoch end\n",
    "            model.eval()\n",
    "            with torch.no_grad():\n",
    "                # epoch loss \n",
    "                loss_e = rloss/len(train_DL.dataset) \n",
    "                \n",
    "                # Validation\n",
    "                k_valid, a_valid, y_valid = next(iter(valid_DL))\n",
    "\n",
    "                output = model( (k_valid.to(device),a_valid.to(device)))\n",
    "                prediction = output.argmax(dim=1)\n",
    "                correct = prediction.eq(y_valid.view_as(prediction)).sum().item()\n",
    "\n",
    "                # Wandb log\n",
    "                wandb.log({\"loss\": loss_e})\n",
    "                wandb.log({\"Validation accuracy\": correct/len(valid_DL.dataset)})\n",
    "\n",
    "                if epoch % 100 == 0:\n",
    "                    print(f\"Epoch: {epoch}, train loss: {round(loss_e,3)}\")\n",
    "                    print(f\"Validation accuracy: {round(correct/len(valid_DL.dataset),3)}\")\n",
    "\n",
    "\n",
    "\n",
    "            scheduler.step()\n",
    "        \n",
    "        model.eval()\n",
    "        with torch.no_grad():\n",
    "            for batch_idx, samples in enumerate(test_DL):\n",
    "                k_train_mb, a_train_mb, y_train_mb = samples\n",
    "\n",
    "                output = model( (k_train_mb.to(device),a_train_mb.to(device)))\n",
    "                prediction = output.argmax(dim=1)\n",
    "                correct = prediction.eq(y_train_mb.view_as(prediction)).sum().item()\n",
    "                print(f\"Evaluation accuracy: {round(correct/len(test_DL.dataset),3)}\")\n",
    "                wandb.log({\"Evaluation accuracy\": correct/len(test_DL.dataset)})\n",
    "                cohenkappa = CohenKappa(num_classes=2).to(device)\n",
    "                peter_kappa = cohenkappa(prediction, y_train_mb.view_as(prediction))\n",
    "                wandb.log({\"Kappa\": peter_kappa.item()})\n",
    "                "
   ]
  },
  {
   "cell_type": "code",
   "execution_count": 10,
   "metadata": {},
   "outputs": [
    {
     "name": "stderr",
     "output_type": "stream",
     "text": [
      "\u001b[34m\u001b[1mwandb\u001b[0m: Agent Starting Run: vjaycj1i with config:\n",
      "\u001b[34m\u001b[1mwandb\u001b[0m: \tbatch_size: 128\n",
      "\u001b[34m\u001b[1mwandb\u001b[0m: \tchop: 32\n",
      "\u001b[34m\u001b[1mwandb\u001b[0m: \tepochs: 400\n",
      "\u001b[34m\u001b[1mwandb\u001b[0m: \thidden_size: 16\n",
      "\u001b[34m\u001b[1mwandb\u001b[0m: \tlearning_rate: 0.001\n",
      "\u001b[34m\u001b[1mwandb\u001b[0m: \toptimizer: adam\n",
      "Failed to detect the name of this notebook, you can set it manually with the WANDB_NOTEBOOK_NAME environment variable to enable code saving.\n",
      "\u001b[34m\u001b[1mwandb\u001b[0m: Currently logged in as: \u001b[33mgoldenyoo\u001b[0m. Use \u001b[1m`wandb login --relogin`\u001b[0m to force relogin\n"
     ]
    },
    {
     "data": {
      "text/html": [
       "wandb version 0.13.4 is available!  To upgrade, please run:\n",
       " $ pip install wandb --upgrade"
      ],
      "text/plain": [
       "<IPython.core.display.HTML object>"
      ]
     },
     "metadata": {},
     "output_type": "display_data"
    },
    {
     "data": {
      "text/html": [
       "Tracking run with wandb version 0.13.2"
      ],
      "text/plain": [
       "<IPython.core.display.HTML object>"
      ]
     },
     "metadata": {},
     "output_type": "display_data"
    },
    {
     "data": {
      "text/html": [
       "Run data is saved locally in <code>c:\\Users\\Peter\\Desktop\\torch_git\\wandb\\run-20221007_101651-vjaycj1i</code>"
      ],
      "text/plain": [
       "<IPython.core.display.HTML object>"
      ]
     },
     "metadata": {},
     "output_type": "display_data"
    },
    {
     "data": {
      "text/html": [
       "Syncing run <strong><a href=\"https://wandb.ai/goldenyoo/BEEE_KA_twosec_divide_DY_1007_1016/runs/vjaycj1i\" target=\"_blank\">wobbly-sweep-1</a></strong> to <a href=\"https://wandb.ai/goldenyoo/BEEE_KA_twosec_divide_DY_1007_1016\" target=\"_blank\">Weights & Biases</a> (<a href=\"https://wandb.me/run\" target=\"_blank\">docs</a>)<br/>Sweep page:  <a href=\"https://wandb.ai/goldenyoo/BEEE_KA_twosec_divide_DY_1007_1016/sweeps/gx3rk3qm\" target=\"_blank\">https://wandb.ai/goldenyoo/BEEE_KA_twosec_divide_DY_1007_1016/sweeps/gx3rk3qm</a>"
      ],
      "text/plain": [
       "<IPython.core.display.HTML object>"
      ]
     },
     "metadata": {},
     "output_type": "display_data"
    },
    {
     "data": {
      "text/html": [
       "Waiting for W&B process to finish... <strong style=\"color:red\">(failed 1).</strong> Press Ctrl-C to abort syncing."
      ],
      "text/plain": [
       "<IPython.core.display.HTML object>"
      ]
     },
     "metadata": {},
     "output_type": "display_data"
    },
    {
     "data": {
      "text/html": [
       "Synced <strong style=\"color:#cdcd00\">wobbly-sweep-1</strong>: <a href=\"https://wandb.ai/goldenyoo/BEEE_KA_twosec_divide_DY_1007_1016/runs/vjaycj1i\" target=\"_blank\">https://wandb.ai/goldenyoo/BEEE_KA_twosec_divide_DY_1007_1016/runs/vjaycj1i</a><br/>Synced 5 W&B file(s), 0 media file(s), 0 artifact file(s) and 0 other file(s)"
      ],
      "text/plain": [
       "<IPython.core.display.HTML object>"
      ]
     },
     "metadata": {},
     "output_type": "display_data"
    },
    {
     "data": {
      "text/html": [
       "Find logs at: <code>.\\wandb\\run-20221007_101651-vjaycj1i\\logs</code>"
      ],
      "text/plain": [
       "<IPython.core.display.HTML object>"
      ]
     },
     "metadata": {},
     "output_type": "display_data"
    },
    {
     "name": "stderr",
     "output_type": "stream",
     "text": [
      "Run vjaycj1i errored: NameError(\"name 'hidden_k' is not defined\")\n",
      "\u001b[34m\u001b[1mwandb\u001b[0m: \u001b[32m\u001b[41mERROR\u001b[0m Run vjaycj1i errored: NameError(\"name 'hidden_k' is not defined\")\n",
      "\u001b[34m\u001b[1mwandb\u001b[0m: Agent Starting Run: snlhxa5t with config:\n",
      "\u001b[34m\u001b[1mwandb\u001b[0m: \tbatch_size: 128\n",
      "\u001b[34m\u001b[1mwandb\u001b[0m: \tchop: 32\n",
      "\u001b[34m\u001b[1mwandb\u001b[0m: \tepochs: 400\n",
      "\u001b[34m\u001b[1mwandb\u001b[0m: \thidden_size: 16\n",
      "\u001b[34m\u001b[1mwandb\u001b[0m: \tlearning_rate: 0.01\n",
      "\u001b[34m\u001b[1mwandb\u001b[0m: \toptimizer: adam\n",
      "Failed to detect the name of this notebook, you can set it manually with the WANDB_NOTEBOOK_NAME environment variable to enable code saving.\n"
     ]
    },
    {
     "data": {
      "text/html": [
       "wandb version 0.13.4 is available!  To upgrade, please run:\n",
       " $ pip install wandb --upgrade"
      ],
      "text/plain": [
       "<IPython.core.display.HTML object>"
      ]
     },
     "metadata": {},
     "output_type": "display_data"
    },
    {
     "data": {
      "text/html": [
       "Tracking run with wandb version 0.13.2"
      ],
      "text/plain": [
       "<IPython.core.display.HTML object>"
      ]
     },
     "metadata": {},
     "output_type": "display_data"
    },
    {
     "data": {
      "text/html": [
       "Run data is saved locally in <code>c:\\Users\\Peter\\Desktop\\torch_git\\wandb\\run-20221007_101716-snlhxa5t</code>"
      ],
      "text/plain": [
       "<IPython.core.display.HTML object>"
      ]
     },
     "metadata": {},
     "output_type": "display_data"
    },
    {
     "data": {
      "text/html": [
       "Syncing run <strong><a href=\"https://wandb.ai/goldenyoo/BEEE_KA_twosec_divide_DY_1007_1016/runs/snlhxa5t\" target=\"_blank\">radiant-sweep-2</a></strong> to <a href=\"https://wandb.ai/goldenyoo/BEEE_KA_twosec_divide_DY_1007_1016\" target=\"_blank\">Weights & Biases</a> (<a href=\"https://wandb.me/run\" target=\"_blank\">docs</a>)<br/>Sweep page:  <a href=\"https://wandb.ai/goldenyoo/BEEE_KA_twosec_divide_DY_1007_1016/sweeps/gx3rk3qm\" target=\"_blank\">https://wandb.ai/goldenyoo/BEEE_KA_twosec_divide_DY_1007_1016/sweeps/gx3rk3qm</a>"
      ],
      "text/plain": [
       "<IPython.core.display.HTML object>"
      ]
     },
     "metadata": {},
     "output_type": "display_data"
    }
   ],
   "source": [
    "wandb.agent(sweep_id, train)"
   ]
  },
  {
   "cell_type": "code",
   "execution_count": null,
   "metadata": {},
   "outputs": [],
   "source": [
    "wandb.finish()"
   ]
  }
 ],
 "metadata": {
  "kernelspec": {
   "display_name": "Python 3.8.13 ('Car')",
   "language": "python",
   "name": "python3"
  },
  "language_info": {
   "codemirror_mode": {
    "name": "ipython",
    "version": 3
   },
   "file_extension": ".py",
   "mimetype": "text/x-python",
   "name": "python",
   "nbconvert_exporter": "python",
   "pygments_lexer": "ipython3",
   "version": "3.8.13"
  },
  "orig_nbformat": 4,
  "vscode": {
   "interpreter": {
    "hash": "3299b8f52885fadf7695044421d8db9b9b3474af12aaae4218ce23d61e72ab48"
   }
  }
 },
 "nbformat": 4,
 "nbformat_minor": 2
}
