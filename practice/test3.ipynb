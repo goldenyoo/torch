{
 "cells": [
  {
   "cell_type": "code",
   "execution_count": null,
   "metadata": {},
   "outputs": [],
   "source": [
    "import numpy as np\n",
    "import torch\n",
    "import torch.nn as nn\n",
    "import torch.optim as optim\n"
   ]
  },
  {
   "cell_type": "code",
   "execution_count": null,
   "metadata": {},
   "outputs": [],
   "source": [
    "sentences = [\"i like dog\", \"i love coffee\", \"i hate milk\", \"you like cat\", \"you love milk\", \"you hate coffee\"]\n",
    "dtype = torch.float\n"
   ]
  },
  {
   "cell_type": "code",
   "execution_count": null,
   "metadata": {},
   "outputs": [],
   "source": [
    "print(sentences)"
   ]
  },
  {
   "cell_type": "code",
   "execution_count": null,
   "metadata": {},
   "outputs": [],
   "source": [
    "print(\" \".join(sentences))"
   ]
  },
  {
   "cell_type": "code",
   "execution_count": null,
   "metadata": {},
   "outputs": [],
   "source": [
    "print(\" \".join(sentences).split())"
   ]
  },
  {
   "cell_type": "code",
   "execution_count": null,
   "metadata": {},
   "outputs": [],
   "source": [
    "set(\" \".join(sentences).split())"
   ]
  },
  {
   "cell_type": "code",
   "execution_count": null,
   "metadata": {},
   "outputs": [],
   "source": [
    "list(set(\" \".join(sentences).split()))"
   ]
  },
  {
   "cell_type": "code",
   "execution_count": null,
   "metadata": {},
   "outputs": [],
   "source": [
    "word_list = list(set(\" \".join(sentences).split()))\n",
    "for i, w in enumerate(word_list):\n",
    "    print(i)\n",
    "    print(w)\n"
   ]
  },
  {
   "cell_type": "code",
   "execution_count": null,
   "metadata": {},
   "outputs": [],
   "source": [
    "\"\"\"\n",
    "Word Processing\n",
    "\"\"\"\n",
    "word_list = list(set(\" \".join(sentences).split()))\n",
    "word_dict = {w: i for i, w in enumerate(word_list)}\n",
    "number_dict = {i: w for i, w in enumerate(word_list)}\n",
    "n_class = len(word_dict)\n",
    "\n"
   ]
  },
  {
   "cell_type": "code",
   "execution_count": null,
   "metadata": {},
   "outputs": [],
   "source": [
    "\n",
    "\"\"\"\n",
    "TextRNN Parameter\n",
    "\"\"\"\n",
    "batch_size = len(sentences)\n",
    "n_step = 2  # 학습 하려고 하는 문장의 길이 - 1\n",
    "n_hidden = 5  # 은닉층 사이즈\n",
    "\n",
    "def make_batch(sentences):\n",
    "  input_batch = []\n",
    "  target_batch = []\n",
    "\n",
    "  for sen in sentences:\n",
    "    word = sen.split()\n",
    "    input = [word_dict[n] for n in word[:-1]]\n",
    "    target = word_dict[word[-1]]\n",
    "\n",
    "    input_batch.append(np.eye(n_class)[input])  # One-Hot Encoding\n",
    "    target_batch.append(target)\n",
    "  \n",
    "  return input_batch, target_batch\n",
    "\n",
    "input_batch, target_batch = make_batch(sentences)\n",
    "input_batch = torch.tensor(input_batch, dtype=torch.float32, requires_grad=True)\n",
    "target_batch = torch.tensor(target_batch, dtype=torch.int64)\n",
    "\n"
   ]
  },
  {
   "cell_type": "code",
   "execution_count": null,
   "metadata": {},
   "outputs": [],
   "source": [
    "\n",
    "\"\"\"\n",
    "TextLSTM\n",
    "\"\"\"\n",
    "class TextLSTM(nn.Module):\n",
    "  def __init__(self):\n",
    "    super(TextLSTM, self).__init__()\n",
    "\n",
    "    self.lstm = nn.LSTM(input_size=n_class, hidden_size=n_hidden, dropout=0.3)\n",
    "    self.fc = nn.Linear(n_hidden, n_class)\n",
    "\n",
    "    # self.W = nn.Parameter(torch.randn([n_hidden, n_class]).type(dtype))\n",
    "    # self.b = nn.Parameter(torch.randn([n_class]).type(dtype))\n",
    "    # self.Softmax = nn.Softmax(dim=1) # softmax 포함되어있다고 하지 않았나? CrossEntropyLoss에...\n",
    "\n",
    "  def forward(self, hidden_and_cell, X):\n",
    "    X = X.transpose(0, 1)\n",
    "    # outputs, hidden = self.lstm(X, hidden_and_cell)\n",
    "    # outputs = outputs[-1]  # 최종 예측 Hidden Layer\n",
    "    # print(X.size())\n",
    "    outputs, (h_n,c_n) = self.lstm(X, hidden_and_cell)\n",
    "    print(outputs.size())\n",
    "    print(outputs[-1])\n",
    "    print(h_n[-1])\n",
    "    # print(h_n.size())\n",
    "    outputs = h_n[0,:,-1]  # 최종 예측 Hidden Layer\n",
    "    # print(outputs.size())\n",
    "\n",
    "    # model = torch.mm(outputs, self.W) + self.b  # 최종 예측 최종 출력 층\n",
    "    model = self.fc(outputs)  # 최종 예측 최종 출력 층\n",
    "    \n",
    "    return model\n",
    "\t\n"
   ]
  },
  {
   "cell_type": "code",
   "execution_count": null,
   "metadata": {},
   "outputs": [],
   "source": [
    "\n",
    "\"\"\"\n",
    "Training\n",
    "\"\"\"\n",
    "model = TextLSTM()\n",
    "criterion = nn.CrossEntropyLoss()\n",
    "optimizer = optim.Adam(model.parameters(), lr=0.01)\n",
    "\n",
    "for epoch in range(500):\n",
    "  hidden = torch.zeros(1, batch_size, n_hidden, requires_grad=True)\n",
    "  cell = torch.zeros(1, batch_size, n_hidden, requires_grad=True)\n",
    "  output = model((hidden, cell), input_batch)\n",
    "  loss = criterion(output, target_batch)\n",
    "\n",
    "  if (epoch + 1) % 100 == 0:\n",
    "    print('Epoch:', '%04d' % (epoch + 1), 'cost =', '{:.6f}'.format(loss))\n",
    "  \n",
    "  optimizer.zero_grad()\n",
    "  loss.backward()\n",
    "  optimizer.step()\n",
    "\n",
    "input = [sen.split()[:2] for sen in sentences]\n",
    "\n",
    "hidden = torch.zeros(1, batch_size, n_hidden, requires_grad=True)\n",
    "cell = torch.zeros(1, batch_size, n_hidden, requires_grad=True)\n",
    "predict = model((hidden, cell), input_batch).data.max(1, keepdim=True)[1]\n",
    "print([sen.split()[:2] for sen in sentences], '->', [number_dict[n.item()] for n in predict.squeeze()])"
   ]
  },
  {
   "cell_type": "code",
   "execution_count": null,
   "metadata": {},
   "outputs": [],
   "source": [
    "list(model.named_parameters())"
   ]
  }
 ],
 "metadata": {
  "kernelspec": {
   "display_name": "Python 3.8.13 ('mac_cpu')",
   "language": "python",
   "name": "python3"
  },
  "language_info": {
   "codemirror_mode": {
    "name": "ipython",
    "version": 3
   },
   "file_extension": ".py",
   "mimetype": "text/x-python",
   "name": "python",
   "nbconvert_exporter": "python",
   "pygments_lexer": "ipython3",
   "version": "3.8.13"
  },
  "orig_nbformat": 4,
  "vscode": {
   "interpreter": {
    "hash": "a25b673604e404bbe71cb44188daddb26f9dca9dc7a0ddb839fa50ca7e9deea0"
   }
  }
 },
 "nbformat": 4,
 "nbformat_minor": 2
}
