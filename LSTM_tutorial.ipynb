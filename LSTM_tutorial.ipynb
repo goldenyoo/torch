{
 "cells": [
  {
   "cell_type": "code",
   "execution_count": 1,
   "metadata": {},
   "outputs": [
    {
     "name": "stderr",
     "output_type": "stream",
     "text": [
      "/Users/goldenyoo/miniforge3/envs/mac_cpu/lib/python3.8/site-packages/tqdm/auto.py:22: TqdmWarning: IProgress not found. Please update jupyter and ipywidgets. See https://ipywidgets.readthedocs.io/en/stable/user_install.html\n",
      "  from .autonotebook import tqdm as notebook_tqdm\n"
     ]
    }
   ],
   "source": [
    "import numpy as np\n",
    "import torch\n",
    "import torch.nn as nn\n",
    "import torch.optim as optim\n",
    "import torch.nn.utils.prune as prune\n",
    "\n",
    "from scipy import io\n",
    "import os"
   ]
  },
  {
   "cell_type": "code",
   "execution_count": null,
   "metadata": {},
   "outputs": [],
   "source": [
    "mat_file = io.loadmat('/Users/goldenyoo/Library/Mobile Documents/com~apple~CloudDocs/BioCAS_prepare/Python_code/Data_center/one_dx/Calib_data_1.mat')\n"
   ]
  },
  {
   "cell_type": "code",
   "execution_count": null,
   "metadata": {},
   "outputs": [],
   "source": [
    "K1 = mat_file['K1']\n",
    "A1 = mat_file['A1']\n",
    "\n",
    "K2 = mat_file['K2']\n",
    "A2 = mat_file['A2']\n",
    "\n",
    "# K1 = np.swapaxes(K1,0,2)\n",
    "# K1 = np.swapaxes(K1,1,2)\n",
    "# A1 = np.swapaxes(A1,0,2)\n",
    "# A1 = np.swapaxes(A1,1,2)\n",
    "\n",
    "# K2 = np.swapaxes(K2,0,2)\n",
    "# K2 = np.swapaxes(K2,1,2)\n",
    "# A2 = np.swapaxes(A2,0,2)\n",
    "# A2 = np.swapaxes(A2,1,2)\n",
    "\n",
    "\n",
    "Y1 = mat_file['Y1']\n",
    "Y2 = mat_file['Y2']"
   ]
  },
  {
   "cell_type": "code",
   "execution_count": null,
   "metadata": {},
   "outputs": [],
   "source": [
    "k1 = torch.FloatTensor(K1)"
   ]
  },
  {
   "cell_type": "code",
   "execution_count": 2,
   "metadata": {},
   "outputs": [],
   "source": [
    "n_class = 2\n",
    "n_hidden = 5\n",
    "dtype = torch.float\n",
    "\n",
    "class TextLSTM(nn.Module):\n",
    "  def __init__(self):\n",
    "    super(TextLSTM, self).__init__()\n",
    "\n",
    "    self.lstm = nn.LSTM(input_size=n_class, hidden_size=n_hidden, dropout=0.3)\n",
    "    self.W = nn.Parameter(torch.randn([n_hidden, n_class]).type(dtype))\n",
    "    self.b = nn.Parameter(torch.randn([n_class]).type(dtype))\n",
    "    # self.Softmax = nn.Softmax(dim=1) # softmax 포함되어있다고 하지 않았나? CrossEntropyLoss에...\n",
    "\n",
    "  def forward(self, hidden_and_cell, X):\n",
    "    X = X.transpose(0, 1)\n",
    "    # outputs, hidden = self.lstm(X, hidden_and_cell)\n",
    "    # outputs = outputs[-1]  # 최종 예측 Hidden Layer\n",
    "    print(X.size())\n",
    "    outputs, (h_n,c_n) = self.lstm(X, hidden_and_cell)\n",
    "    # print(h_n.size())\n",
    "    outputs = h_n[-1]  # 최종 예측 Hidden Layer\n",
    "\n",
    "    model = torch.mm(outputs, self.W) + self.b  # 최종 예측 최종 출력 층\n",
    "    return model"
   ]
  },
  {
   "cell_type": "code",
   "execution_count": 3,
   "metadata": {},
   "outputs": [
    {
     "name": "stderr",
     "output_type": "stream",
     "text": [
      "/Users/goldenyoo/miniforge3/envs/mac_cpu/lib/python3.8/site-packages/torch/nn/modules/rnn.py:62: UserWarning: dropout option adds dropout after all but last recurrent layer, so non-zero dropout expects num_layers greater than 1, but got dropout=0.3 and num_layers=1\n",
      "  warnings.warn(\"dropout option adds dropout after all but last \"\n"
     ]
    }
   ],
   "source": [
    "model = TextLSTM()\n",
    "\n",
    "module_1 = model.lstm"
   ]
  },
  {
   "cell_type": "code",
   "execution_count": 6,
   "metadata": {},
   "outputs": [
    {
     "data": {
      "text/plain": [
       "[('weight_ih_l0',\n",
       "  Parameter containing:\n",
       "  tensor([[ 0.2912, -0.1798],\n",
       "          [ 0.4055, -0.4347],\n",
       "          [ 0.2762,  0.0449],\n",
       "          [-0.4446, -0.1436],\n",
       "          [-0.3310,  0.3607],\n",
       "          [ 0.2106,  0.1642],\n",
       "          [-0.2545, -0.2307],\n",
       "          [ 0.2995,  0.2674],\n",
       "          [-0.1041, -0.1720],\n",
       "          [-0.3556,  0.1214],\n",
       "          [-0.1920, -0.4170],\n",
       "          [ 0.1555,  0.3341],\n",
       "          [ 0.1053,  0.3932],\n",
       "          [ 0.0947, -0.3684],\n",
       "          [ 0.0451,  0.4370],\n",
       "          [ 0.3150, -0.1369],\n",
       "          [ 0.1610,  0.0980],\n",
       "          [ 0.4422,  0.0916],\n",
       "          [ 0.0455,  0.1501],\n",
       "          [-0.3389, -0.2318]], requires_grad=True)),\n",
       " ('weight_hh_l0',\n",
       "  Parameter containing:\n",
       "  tensor([[-0.1896,  0.1681, -0.2762,  0.4190,  0.1899],\n",
       "          [-0.0782, -0.1045, -0.1679,  0.1726, -0.3120],\n",
       "          [-0.3348, -0.2711, -0.1111, -0.3023, -0.2008],\n",
       "          [-0.3514,  0.2660,  0.2612, -0.3102, -0.2143],\n",
       "          [ 0.3105,  0.2031, -0.0816, -0.3132, -0.1966],\n",
       "          [ 0.4293,  0.1276,  0.2366, -0.1929, -0.3545],\n",
       "          [ 0.3165,  0.2339,  0.1177, -0.4192, -0.2537],\n",
       "          [-0.1396,  0.0333,  0.1935,  0.1796,  0.1987],\n",
       "          [ 0.1791,  0.1760, -0.1893,  0.4311, -0.1467],\n",
       "          [ 0.2123, -0.4436, -0.3329, -0.3002,  0.2147],\n",
       "          [ 0.2450,  0.0666,  0.0849,  0.2691, -0.0472],\n",
       "          [-0.0140,  0.1025,  0.1138, -0.4273,  0.3973],\n",
       "          [-0.2059,  0.0974, -0.4086, -0.2739,  0.1365],\n",
       "          [-0.0364,  0.1302,  0.0849, -0.3353, -0.0420],\n",
       "          [-0.0608,  0.4346,  0.1932,  0.0083,  0.4157],\n",
       "          [-0.2471,  0.1273,  0.2255,  0.0109, -0.3231],\n",
       "          [ 0.2506, -0.1825,  0.3534, -0.3917, -0.0943],\n",
       "          [-0.3261, -0.1342, -0.1137,  0.3999,  0.3097],\n",
       "          [ 0.2215, -0.2617,  0.1832,  0.0378, -0.2839],\n",
       "          [ 0.1297,  0.1018,  0.2031, -0.3719,  0.3358]], requires_grad=True)),\n",
       " ('bias_ih_l0',\n",
       "  Parameter containing:\n",
       "  tensor([-0.3181, -0.0520,  0.2664, -0.0487,  0.3017, -0.1881, -0.3196, -0.1155,\n",
       "           0.1643, -0.4158,  0.2631, -0.1188,  0.1336,  0.0557, -0.1455, -0.2052,\n",
       "           0.0540, -0.2603, -0.4043,  0.2877], requires_grad=True)),\n",
       " ('bias_hh_l0',\n",
       "  Parameter containing:\n",
       "  tensor([ 0.2067, -0.4259, -0.4220, -0.0354,  0.1738,  0.1037, -0.2035, -0.3320,\n",
       "          -0.2556, -0.2870, -0.3023, -0.3553,  0.4357,  0.1729,  0.3211,  0.0161,\n",
       "           0.0123,  0.1418, -0.2325, -0.2672], requires_grad=True))]"
      ]
     },
     "execution_count": 6,
     "metadata": {},
     "output_type": "execute_result"
    }
   ],
   "source": [
    "list(module_1.named_parameters())"
   ]
  },
  {
   "cell_type": "code",
   "execution_count": 8,
   "metadata": {},
   "outputs": [
    {
     "data": {
      "text/plain": [
       "[('weight_hh_l0',\n",
       "  Parameter containing:\n",
       "  tensor([[-0.1896,  0.1681, -0.2762,  0.4190,  0.1899],\n",
       "          [-0.0782, -0.1045, -0.1679,  0.1726, -0.3120],\n",
       "          [-0.3348, -0.2711, -0.1111, -0.3023, -0.2008],\n",
       "          [-0.3514,  0.2660,  0.2612, -0.3102, -0.2143],\n",
       "          [ 0.3105,  0.2031, -0.0816, -0.3132, -0.1966],\n",
       "          [ 0.4293,  0.1276,  0.2366, -0.1929, -0.3545],\n",
       "          [ 0.3165,  0.2339,  0.1177, -0.4192, -0.2537],\n",
       "          [-0.1396,  0.0333,  0.1935,  0.1796,  0.1987],\n",
       "          [ 0.1791,  0.1760, -0.1893,  0.4311, -0.1467],\n",
       "          [ 0.2123, -0.4436, -0.3329, -0.3002,  0.2147],\n",
       "          [ 0.2450,  0.0666,  0.0849,  0.2691, -0.0472],\n",
       "          [-0.0140,  0.1025,  0.1138, -0.4273,  0.3973],\n",
       "          [-0.2059,  0.0974, -0.4086, -0.2739,  0.1365],\n",
       "          [-0.0364,  0.1302,  0.0849, -0.3353, -0.0420],\n",
       "          [-0.0608,  0.4346,  0.1932,  0.0083,  0.4157],\n",
       "          [-0.2471,  0.1273,  0.2255,  0.0109, -0.3231],\n",
       "          [ 0.2506, -0.1825,  0.3534, -0.3917, -0.0943],\n",
       "          [-0.3261, -0.1342, -0.1137,  0.3999,  0.3097],\n",
       "          [ 0.2215, -0.2617,  0.1832,  0.0378, -0.2839],\n",
       "          [ 0.1297,  0.1018,  0.2031, -0.3719,  0.3358]], requires_grad=True)),\n",
       " ('bias_ih_l0',\n",
       "  Parameter containing:\n",
       "  tensor([-0.3181, -0.0520,  0.2664, -0.0487,  0.3017, -0.1881, -0.3196, -0.1155,\n",
       "           0.1643, -0.4158,  0.2631, -0.1188,  0.1336,  0.0557, -0.1455, -0.2052,\n",
       "           0.0540, -0.2603, -0.4043,  0.2877], requires_grad=True)),\n",
       " ('bias_hh_l0',\n",
       "  Parameter containing:\n",
       "  tensor([ 0.2067, -0.4259, -0.4220, -0.0354,  0.1738,  0.1037, -0.2035, -0.3320,\n",
       "          -0.2556, -0.2870, -0.3023, -0.3553,  0.4357,  0.1729,  0.3211,  0.0161,\n",
       "           0.0123,  0.1418, -0.2325, -0.2672], requires_grad=True)),\n",
       " ('weight_ih_l0_orig',\n",
       "  Parameter containing:\n",
       "  tensor([[ 0.2912, -0.1798],\n",
       "          [ 0.4055, -0.4347],\n",
       "          [ 0.2762,  0.0449],\n",
       "          [-0.4446, -0.1436],\n",
       "          [-0.3310,  0.3607],\n",
       "          [ 0.2106,  0.1642],\n",
       "          [-0.2545, -0.2307],\n",
       "          [ 0.2995,  0.2674],\n",
       "          [-0.1041, -0.1720],\n",
       "          [-0.3556,  0.1214],\n",
       "          [-0.1920, -0.4170],\n",
       "          [ 0.1555,  0.3341],\n",
       "          [ 0.1053,  0.3932],\n",
       "          [ 0.0947, -0.3684],\n",
       "          [ 0.0451,  0.4370],\n",
       "          [ 0.3150, -0.1369],\n",
       "          [ 0.1610,  0.0980],\n",
       "          [ 0.4422,  0.0916],\n",
       "          [ 0.0455,  0.1501],\n",
       "          [-0.3389, -0.2318]], requires_grad=True))]"
      ]
     },
     "execution_count": 8,
     "metadata": {},
     "output_type": "execute_result"
    }
   ],
   "source": [
    "prune.random_unstructured(module_1, name=\"weight_ih_l0\", amount=0.3)\n",
    "list(module_1.named_parameters())"
   ]
  },
  {
   "cell_type": "code",
   "execution_count": 9,
   "metadata": {},
   "outputs": [
    {
     "data": {
      "text/plain": [
       "[('weight_ih_l0_mask',\n",
       "  tensor([[0., 1.],\n",
       "          [1., 1.],\n",
       "          [0., 1.],\n",
       "          [1., 1.],\n",
       "          [0., 1.],\n",
       "          [0., 1.],\n",
       "          [1., 1.],\n",
       "          [1., 0.],\n",
       "          [1., 0.],\n",
       "          [1., 1.],\n",
       "          [0., 1.],\n",
       "          [1., 0.],\n",
       "          [1., 1.],\n",
       "          [0., 1.],\n",
       "          [1., 1.],\n",
       "          [0., 1.],\n",
       "          [1., 1.],\n",
       "          [1., 1.],\n",
       "          [1., 0.],\n",
       "          [0., 1.]]))]"
      ]
     },
     "execution_count": 9,
     "metadata": {},
     "output_type": "execute_result"
    }
   ],
   "source": [
    "list(module_1.named_buffers())"
   ]
  },
  {
   "cell_type": "code",
   "execution_count": 12,
   "metadata": {},
   "outputs": [
    {
     "data": {
      "text/plain": [
       "tensor([[ 0.0000, -0.1798],\n",
       "        [ 0.4055, -0.4347],\n",
       "        [ 0.0000,  0.0449],\n",
       "        [-0.4446, -0.1436],\n",
       "        [-0.0000,  0.3607],\n",
       "        [ 0.0000,  0.1642],\n",
       "        [-0.2545, -0.2307],\n",
       "        [ 0.2995,  0.0000],\n",
       "        [-0.1041, -0.0000],\n",
       "        [-0.3556,  0.1214],\n",
       "        [-0.0000, -0.4170],\n",
       "        [ 0.1555,  0.0000],\n",
       "        [ 0.1053,  0.3932],\n",
       "        [ 0.0000, -0.3684],\n",
       "        [ 0.0451,  0.4370],\n",
       "        [ 0.0000, -0.1369],\n",
       "        [ 0.1610,  0.0980],\n",
       "        [ 0.4422,  0.0916],\n",
       "        [ 0.0455,  0.0000],\n",
       "        [-0.0000, -0.2318]], grad_fn=<MulBackward0>)"
      ]
     },
     "execution_count": 12,
     "metadata": {},
     "output_type": "execute_result"
    }
   ],
   "source": [
    "module_1.weight_ih_l0"
   ]
  }
 ],
 "metadata": {
  "kernelspec": {
   "display_name": "Python 3.8.13 ('mac_cpu')",
   "language": "python",
   "name": "python3"
  },
  "language_info": {
   "codemirror_mode": {
    "name": "ipython",
    "version": 3
   },
   "file_extension": ".py",
   "mimetype": "text/x-python",
   "name": "python",
   "nbconvert_exporter": "python",
   "pygments_lexer": "ipython3",
   "version": "3.8.13"
  },
  "orig_nbformat": 4,
  "vscode": {
   "interpreter": {
    "hash": "a25b673604e404bbe71cb44188daddb26f9dca9dc7a0ddb839fa50ca7e9deea0"
   }
  }
 },
 "nbformat": 4,
 "nbformat_minor": 2
}
