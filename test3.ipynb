{
 "cells": [
  {
   "cell_type": "code",
   "execution_count": 20,
   "metadata": {},
   "outputs": [],
   "source": [
    "import numpy as np\n",
    "import torch\n",
    "import torch.nn as nn\n",
    "import torch.optim as optim\n"
   ]
  },
  {
   "cell_type": "code",
   "execution_count": 21,
   "metadata": {},
   "outputs": [],
   "source": [
    "sentences = [\"i like dog\", \"i love coffee\", \"i hate milk\", \"you like cat\", \"you love milk\", \"you hate coffee\"]\n",
    "dtype = torch.float\n"
   ]
  },
  {
   "cell_type": "code",
   "execution_count": 22,
   "metadata": {},
   "outputs": [
    {
     "name": "stdout",
     "output_type": "stream",
     "text": [
      "['i like dog', 'i love coffee', 'i hate milk', 'you like cat', 'you love milk', 'you hate coffee']\n"
     ]
    }
   ],
   "source": [
    "print(sentences)"
   ]
  },
  {
   "cell_type": "code",
   "execution_count": 23,
   "metadata": {},
   "outputs": [
    {
     "name": "stdout",
     "output_type": "stream",
     "text": [
      "i like dog i love coffee i hate milk you like cat you love milk you hate coffee\n"
     ]
    }
   ],
   "source": [
    "print(\" \".join(sentences))"
   ]
  },
  {
   "cell_type": "code",
   "execution_count": 24,
   "metadata": {},
   "outputs": [
    {
     "name": "stdout",
     "output_type": "stream",
     "text": [
      "['i', 'like', 'dog', 'i', 'love', 'coffee', 'i', 'hate', 'milk', 'you', 'like', 'cat', 'you', 'love', 'milk', 'you', 'hate', 'coffee']\n"
     ]
    }
   ],
   "source": [
    "print(\" \".join(sentences).split())"
   ]
  },
  {
   "cell_type": "code",
   "execution_count": 25,
   "metadata": {},
   "outputs": [
    {
     "data": {
      "text/plain": [
       "{'cat', 'coffee', 'dog', 'hate', 'i', 'like', 'love', 'milk', 'you'}"
      ]
     },
     "execution_count": 25,
     "metadata": {},
     "output_type": "execute_result"
    }
   ],
   "source": [
    "set(\" \".join(sentences).split())"
   ]
  },
  {
   "cell_type": "code",
   "execution_count": 26,
   "metadata": {},
   "outputs": [
    {
     "data": {
      "text/plain": [
       "['coffee', 'like', 'i', 'hate', 'milk', 'you', 'love', 'dog', 'cat']"
      ]
     },
     "execution_count": 26,
     "metadata": {},
     "output_type": "execute_result"
    }
   ],
   "source": [
    "list(set(\" \".join(sentences).split()))"
   ]
  },
  {
   "cell_type": "code",
   "execution_count": 27,
   "metadata": {},
   "outputs": [
    {
     "name": "stdout",
     "output_type": "stream",
     "text": [
      "0\n",
      "coffee\n",
      "1\n",
      "like\n",
      "2\n",
      "i\n",
      "3\n",
      "hate\n",
      "4\n",
      "milk\n",
      "5\n",
      "you\n",
      "6\n",
      "love\n",
      "7\n",
      "dog\n",
      "8\n",
      "cat\n"
     ]
    }
   ],
   "source": [
    "word_list = list(set(\" \".join(sentences).split()))\n",
    "for i, w in enumerate(word_list):\n",
    "    print(i)\n",
    "    print(w)\n"
   ]
  },
  {
   "cell_type": "code",
   "execution_count": 28,
   "metadata": {},
   "outputs": [],
   "source": [
    "\"\"\"\n",
    "Word Processing\n",
    "\"\"\"\n",
    "word_list = list(set(\" \".join(sentences).split()))\n",
    "word_dict = {w: i for i, w in enumerate(word_list)}\n",
    "number_dict = {i: w for i, w in enumerate(word_list)}\n",
    "n_class = len(word_dict)\n",
    "\n"
   ]
  },
  {
   "cell_type": "code",
   "execution_count": 29,
   "metadata": {},
   "outputs": [],
   "source": [
    "\n",
    "\"\"\"\n",
    "TextRNN Parameter\n",
    "\"\"\"\n",
    "batch_size = len(sentences)\n",
    "n_step = 2  # 학습 하려고 하는 문장의 길이 - 1\n",
    "n_hidden = 5  # 은닉층 사이즈\n",
    "\n",
    "def make_batch(sentences):\n",
    "  input_batch = []\n",
    "  target_batch = []\n",
    "\n",
    "  for sen in sentences:\n",
    "    word = sen.split()\n",
    "    input = [word_dict[n] for n in word[:-1]]\n",
    "    target = word_dict[word[-1]]\n",
    "\n",
    "    input_batch.append(np.eye(n_class)[input])  # One-Hot Encoding\n",
    "    target_batch.append(target)\n",
    "  \n",
    "  return input_batch, target_batch\n",
    "\n",
    "input_batch, target_batch = make_batch(sentences)\n",
    "input_batch = torch.tensor(input_batch, dtype=torch.float32, requires_grad=True)\n",
    "target_batch = torch.tensor(target_batch, dtype=torch.int64)\n",
    "\n"
   ]
  },
  {
   "cell_type": "code",
   "execution_count": 36,
   "metadata": {},
   "outputs": [],
   "source": [
    "\n",
    "\"\"\"\n",
    "TextLSTM\n",
    "\"\"\"\n",
    "class TextLSTM(nn.Module):\n",
    "  def __init__(self):\n",
    "    super(TextLSTM, self).__init__()\n",
    "\n",
    "    self.lstm = nn.LSTM(input_size=n_class, hidden_size=n_hidden, dropout=0.3)\n",
    "    self.fc = nn.Linear(n_hidden, n_class)\n",
    "\n",
    "    # self.W = nn.Parameter(torch.randn([n_hidden, n_class]).type(dtype))\n",
    "    # self.b = nn.Parameter(torch.randn([n_class]).type(dtype))\n",
    "    # self.Softmax = nn.Softmax(dim=1) # softmax 포함되어있다고 하지 않았나? CrossEntropyLoss에...\n",
    "\n",
    "  def forward(self, hidden_and_cell, X):\n",
    "    X = X.transpose(0, 1)\n",
    "    # outputs, hidden = self.lstm(X, hidden_and_cell)\n",
    "    # outputs = outputs[-1]  # 최종 예측 Hidden Layer\n",
    "    # print(X.size())\n",
    "    outputs, (h_n,c_n) = self.lstm(X, hidden_and_cell)\n",
    "    print(outputs.size())\n",
    "    print(outputs[-1])\n",
    "    print(h_n[-1])\n",
    "    # print(h_n.size())\n",
    "    outputs = h_n[0,:,-1]  # 최종 예측 Hidden Layer\n",
    "    # print(outputs.size())\n",
    "\n",
    "    # model = torch.mm(outputs, self.W) + self.b  # 최종 예측 최종 출력 층\n",
    "    model = self.fc(outputs)  # 최종 예측 최종 출력 층\n",
    "    \n",
    "    return model\n",
    "\t\n"
   ]
  },
  {
   "cell_type": "code",
   "execution_count": 37,
   "metadata": {},
   "outputs": [
    {
     "name": "stdout",
     "output_type": "stream",
     "text": [
      "torch.Size([2, 6, 5])\n",
      "tensor([[ 0.1159,  0.0809,  0.1429, -0.1248,  0.1029],\n",
      "        [-0.0422,  0.0822,  0.1058,  0.0103,  0.0065],\n",
      "        [ 0.0354,  0.0551, -0.0029, -0.0357,  0.0555],\n",
      "        [ 0.1614,  0.0713,  0.1267, -0.1456,  0.1389],\n",
      "        [ 0.0401,  0.0729,  0.0845,  0.0020,  0.0436],\n",
      "        [ 0.1048,  0.0454, -0.0096, -0.0501,  0.0903]],\n",
      "       grad_fn=<SelectBackward0>)\n",
      "tensor([[ 0.1159,  0.0809,  0.1429, -0.1248,  0.1029],\n",
      "        [-0.0422,  0.0822,  0.1058,  0.0103,  0.0065],\n",
      "        [ 0.0354,  0.0551, -0.0029, -0.0357,  0.0555],\n",
      "        [ 0.1614,  0.0713,  0.1267, -0.1456,  0.1389],\n",
      "        [ 0.0401,  0.0729,  0.0845,  0.0020,  0.0436],\n",
      "        [ 0.1048,  0.0454, -0.0096, -0.0501,  0.0903]],\n",
      "       grad_fn=<SelectBackward0>)\n"
     ]
    },
    {
     "name": "stderr",
     "output_type": "stream",
     "text": [
      "/Users/goldenyoo/miniforge3/envs/mac_cpu/lib/python3.8/site-packages/torch/nn/modules/rnn.py:62: UserWarning: dropout option adds dropout after all but last recurrent layer, so non-zero dropout expects num_layers greater than 1, but got dropout=0.3 and num_layers=1\n",
      "  warnings.warn(\"dropout option adds dropout after all but last \"\n"
     ]
    },
    {
     "ename": "RuntimeError",
     "evalue": "mat1 and mat2 shapes cannot be multiplied (1x6 and 5x9)",
     "output_type": "error",
     "traceback": [
      "\u001b[0;31m---------------------------------------------------------------------------\u001b[0m",
      "\u001b[0;31mRuntimeError\u001b[0m                              Traceback (most recent call last)",
      "\u001b[1;32m/Users/goldenyoo/Library/Mobile Documents/com~apple~CloudDocs/Pytorch/test3.ipynb 셀 12\u001b[0m in \u001b[0;36m<cell line: 8>\u001b[0;34m()\u001b[0m\n\u001b[1;32m      <a href='vscode-notebook-cell:/Users/goldenyoo/Library/Mobile%20Documents/com~apple~CloudDocs/Pytorch/test3.ipynb#X14sZmlsZQ%3D%3D?line=8'>9</a>\u001b[0m hidden \u001b[39m=\u001b[39m torch\u001b[39m.\u001b[39mzeros(\u001b[39m1\u001b[39m, batch_size, n_hidden, requires_grad\u001b[39m=\u001b[39m\u001b[39mTrue\u001b[39;00m)\n\u001b[1;32m     <a href='vscode-notebook-cell:/Users/goldenyoo/Library/Mobile%20Documents/com~apple~CloudDocs/Pytorch/test3.ipynb#X14sZmlsZQ%3D%3D?line=9'>10</a>\u001b[0m cell \u001b[39m=\u001b[39m torch\u001b[39m.\u001b[39mzeros(\u001b[39m1\u001b[39m, batch_size, n_hidden, requires_grad\u001b[39m=\u001b[39m\u001b[39mTrue\u001b[39;00m)\n\u001b[0;32m---> <a href='vscode-notebook-cell:/Users/goldenyoo/Library/Mobile%20Documents/com~apple~CloudDocs/Pytorch/test3.ipynb#X14sZmlsZQ%3D%3D?line=10'>11</a>\u001b[0m output \u001b[39m=\u001b[39m model((hidden, cell), input_batch)\n\u001b[1;32m     <a href='vscode-notebook-cell:/Users/goldenyoo/Library/Mobile%20Documents/com~apple~CloudDocs/Pytorch/test3.ipynb#X14sZmlsZQ%3D%3D?line=11'>12</a>\u001b[0m loss \u001b[39m=\u001b[39m criterion(output, target_batch)\n\u001b[1;32m     <a href='vscode-notebook-cell:/Users/goldenyoo/Library/Mobile%20Documents/com~apple~CloudDocs/Pytorch/test3.ipynb#X14sZmlsZQ%3D%3D?line=13'>14</a>\u001b[0m \u001b[39mif\u001b[39;00m (epoch \u001b[39m+\u001b[39m \u001b[39m1\u001b[39m) \u001b[39m%\u001b[39m \u001b[39m100\u001b[39m \u001b[39m==\u001b[39m \u001b[39m0\u001b[39m:\n",
      "File \u001b[0;32m~/miniforge3/envs/mac_cpu/lib/python3.8/site-packages/torch/nn/modules/module.py:1110\u001b[0m, in \u001b[0;36mModule._call_impl\u001b[0;34m(self, *input, **kwargs)\u001b[0m\n\u001b[1;32m   1106\u001b[0m \u001b[39m# If we don't have any hooks, we want to skip the rest of the logic in\u001b[39;00m\n\u001b[1;32m   1107\u001b[0m \u001b[39m# this function, and just call forward.\u001b[39;00m\n\u001b[1;32m   1108\u001b[0m \u001b[39mif\u001b[39;00m \u001b[39mnot\u001b[39;00m (\u001b[39mself\u001b[39m\u001b[39m.\u001b[39m_backward_hooks \u001b[39mor\u001b[39;00m \u001b[39mself\u001b[39m\u001b[39m.\u001b[39m_forward_hooks \u001b[39mor\u001b[39;00m \u001b[39mself\u001b[39m\u001b[39m.\u001b[39m_forward_pre_hooks \u001b[39mor\u001b[39;00m _global_backward_hooks\n\u001b[1;32m   1109\u001b[0m         \u001b[39mor\u001b[39;00m _global_forward_hooks \u001b[39mor\u001b[39;00m _global_forward_pre_hooks):\n\u001b[0;32m-> 1110\u001b[0m     \u001b[39mreturn\u001b[39;00m forward_call(\u001b[39m*\u001b[39;49m\u001b[39minput\u001b[39;49m, \u001b[39m*\u001b[39;49m\u001b[39m*\u001b[39;49mkwargs)\n\u001b[1;32m   1111\u001b[0m \u001b[39m# Do not call functions when jit is used\u001b[39;00m\n\u001b[1;32m   1112\u001b[0m full_backward_hooks, non_full_backward_hooks \u001b[39m=\u001b[39m [], []\n",
      "\u001b[1;32m/Users/goldenyoo/Library/Mobile Documents/com~apple~CloudDocs/Pytorch/test3.ipynb 셀 12\u001b[0m in \u001b[0;36mTextLSTM.forward\u001b[0;34m(self, hidden_and_cell, X)\u001b[0m\n\u001b[1;32m     <a href='vscode-notebook-cell:/Users/goldenyoo/Library/Mobile%20Documents/com~apple~CloudDocs/Pytorch/test3.ipynb#X14sZmlsZQ%3D%3D?line=24'>25</a>\u001b[0m outputs \u001b[39m=\u001b[39m h_n[\u001b[39m0\u001b[39m,:,\u001b[39m-\u001b[39m\u001b[39m1\u001b[39m]  \u001b[39m# 최종 예측 Hidden Layer\u001b[39;00m\n\u001b[1;32m     <a href='vscode-notebook-cell:/Users/goldenyoo/Library/Mobile%20Documents/com~apple~CloudDocs/Pytorch/test3.ipynb#X14sZmlsZQ%3D%3D?line=25'>26</a>\u001b[0m \u001b[39m# print(outputs.size())\u001b[39;00m\n\u001b[1;32m     <a href='vscode-notebook-cell:/Users/goldenyoo/Library/Mobile%20Documents/com~apple~CloudDocs/Pytorch/test3.ipynb#X14sZmlsZQ%3D%3D?line=26'>27</a>\u001b[0m \n\u001b[1;32m     <a href='vscode-notebook-cell:/Users/goldenyoo/Library/Mobile%20Documents/com~apple~CloudDocs/Pytorch/test3.ipynb#X14sZmlsZQ%3D%3D?line=27'>28</a>\u001b[0m \u001b[39m# model = torch.mm(outputs, self.W) + self.b  # 최종 예측 최종 출력 층\u001b[39;00m\n\u001b[0;32m---> <a href='vscode-notebook-cell:/Users/goldenyoo/Library/Mobile%20Documents/com~apple~CloudDocs/Pytorch/test3.ipynb#X14sZmlsZQ%3D%3D?line=28'>29</a>\u001b[0m model \u001b[39m=\u001b[39m \u001b[39mself\u001b[39;49m\u001b[39m.\u001b[39;49mfc(outputs)  \u001b[39m# 최종 예측 최종 출력 층\u001b[39;00m\n\u001b[1;32m     <a href='vscode-notebook-cell:/Users/goldenyoo/Library/Mobile%20Documents/com~apple~CloudDocs/Pytorch/test3.ipynb#X14sZmlsZQ%3D%3D?line=30'>31</a>\u001b[0m \u001b[39mreturn\u001b[39;00m model\n",
      "File \u001b[0;32m~/miniforge3/envs/mac_cpu/lib/python3.8/site-packages/torch/nn/modules/module.py:1110\u001b[0m, in \u001b[0;36mModule._call_impl\u001b[0;34m(self, *input, **kwargs)\u001b[0m\n\u001b[1;32m   1106\u001b[0m \u001b[39m# If we don't have any hooks, we want to skip the rest of the logic in\u001b[39;00m\n\u001b[1;32m   1107\u001b[0m \u001b[39m# this function, and just call forward.\u001b[39;00m\n\u001b[1;32m   1108\u001b[0m \u001b[39mif\u001b[39;00m \u001b[39mnot\u001b[39;00m (\u001b[39mself\u001b[39m\u001b[39m.\u001b[39m_backward_hooks \u001b[39mor\u001b[39;00m \u001b[39mself\u001b[39m\u001b[39m.\u001b[39m_forward_hooks \u001b[39mor\u001b[39;00m \u001b[39mself\u001b[39m\u001b[39m.\u001b[39m_forward_pre_hooks \u001b[39mor\u001b[39;00m _global_backward_hooks\n\u001b[1;32m   1109\u001b[0m         \u001b[39mor\u001b[39;00m _global_forward_hooks \u001b[39mor\u001b[39;00m _global_forward_pre_hooks):\n\u001b[0;32m-> 1110\u001b[0m     \u001b[39mreturn\u001b[39;00m forward_call(\u001b[39m*\u001b[39;49m\u001b[39minput\u001b[39;49m, \u001b[39m*\u001b[39;49m\u001b[39m*\u001b[39;49mkwargs)\n\u001b[1;32m   1111\u001b[0m \u001b[39m# Do not call functions when jit is used\u001b[39;00m\n\u001b[1;32m   1112\u001b[0m full_backward_hooks, non_full_backward_hooks \u001b[39m=\u001b[39m [], []\n",
      "File \u001b[0;32m~/miniforge3/envs/mac_cpu/lib/python3.8/site-packages/torch/nn/modules/linear.py:103\u001b[0m, in \u001b[0;36mLinear.forward\u001b[0;34m(self, input)\u001b[0m\n\u001b[1;32m    102\u001b[0m \u001b[39mdef\u001b[39;00m \u001b[39mforward\u001b[39m(\u001b[39mself\u001b[39m, \u001b[39minput\u001b[39m: Tensor) \u001b[39m-\u001b[39m\u001b[39m>\u001b[39m Tensor:\n\u001b[0;32m--> 103\u001b[0m     \u001b[39mreturn\u001b[39;00m F\u001b[39m.\u001b[39;49mlinear(\u001b[39minput\u001b[39;49m, \u001b[39mself\u001b[39;49m\u001b[39m.\u001b[39;49mweight, \u001b[39mself\u001b[39;49m\u001b[39m.\u001b[39;49mbias)\n",
      "\u001b[0;31mRuntimeError\u001b[0m: mat1 and mat2 shapes cannot be multiplied (1x6 and 5x9)"
     ]
    }
   ],
   "source": [
    "\n",
    "\"\"\"\n",
    "Training\n",
    "\"\"\"\n",
    "model = TextLSTM()\n",
    "criterion = nn.CrossEntropyLoss()\n",
    "optimizer = optim.Adam(model.parameters(), lr=0.01)\n",
    "\n",
    "for epoch in range(500):\n",
    "  hidden = torch.zeros(1, batch_size, n_hidden, requires_grad=True)\n",
    "  cell = torch.zeros(1, batch_size, n_hidden, requires_grad=True)\n",
    "  output = model((hidden, cell), input_batch)\n",
    "  loss = criterion(output, target_batch)\n",
    "\n",
    "  if (epoch + 1) % 100 == 0:\n",
    "    print('Epoch:', '%04d' % (epoch + 1), 'cost =', '{:.6f}'.format(loss))\n",
    "  \n",
    "  optimizer.zero_grad()\n",
    "  loss.backward()\n",
    "  optimizer.step()\n",
    "\n",
    "input = [sen.split()[:2] for sen in sentences]\n",
    "\n",
    "hidden = torch.zeros(1, batch_size, n_hidden, requires_grad=True)\n",
    "cell = torch.zeros(1, batch_size, n_hidden, requires_grad=True)\n",
    "predict = model((hidden, cell), input_batch).data.max(1, keepdim=True)[1]\n",
    "print([sen.split()[:2] for sen in sentences], '->', [number_dict[n.item()] for n in predict.squeeze()])"
   ]
  },
  {
   "cell_type": "code",
   "execution_count": null,
   "metadata": {},
   "outputs": [],
   "source": [
    "list(model.named_parameters())"
   ]
  }
 ],
 "metadata": {
  "kernelspec": {
   "display_name": "Python 3.8.13 ('mac_cpu')",
   "language": "python",
   "name": "python3"
  },
  "language_info": {
   "codemirror_mode": {
    "name": "ipython",
    "version": 3
   },
   "file_extension": ".py",
   "mimetype": "text/x-python",
   "name": "python",
   "nbconvert_exporter": "python",
   "pygments_lexer": "ipython3",
   "version": "3.8.13"
  },
  "orig_nbformat": 4,
  "vscode": {
   "interpreter": {
    "hash": "a25b673604e404bbe71cb44188daddb26f9dca9dc7a0ddb839fa50ca7e9deea0"
   }
  }
 },
 "nbformat": 4,
 "nbformat_minor": 2
}
